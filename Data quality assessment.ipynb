{
 "cells": [
  {
   "cell_type": "code",
   "execution_count": 1,
   "id": "8d274c4d",
   "metadata": {},
   "outputs": [],
   "source": [
    "import pandas as pd\n",
    "import warnings\n",
    "warnings.filterwarnings('ignore')\n",
    "import pygwalker as pyg"
   ]
  },
  {
   "cell_type": "markdown",
   "id": "62cb70bf",
   "metadata": {},
   "source": [
    "### Read the data into a dataframe"
   ]
  },
  {
   "cell_type": "code",
   "execution_count": 2,
   "id": "40520689",
   "metadata": {},
   "outputs": [],
   "source": [
    "# read the data\n",
    "\n",
    "df = pd.read_excel('KPMG_VI_New_raw_data_update_final.xlsx',sheet_name=None, header=1)"
   ]
  },
  {
   "cell_type": "code",
   "execution_count": 3,
   "id": "56fbaac9",
   "metadata": {},
   "outputs": [
    {
     "name": "stdout",
     "output_type": "stream",
     "text": [
      "dict_keys(['Title Sheet', 'Transactions', 'NewCustomerList', 'CustomerDemographic', 'CustomerAddress'])\n"
     ]
    }
   ],
   "source": [
    "print(df.keys())"
   ]
  },
  {
   "cell_type": "markdown",
   "id": "b77130ed",
   "metadata": {},
   "source": [
    "###  Assigning sheets to dataframe objects"
   ]
  },
  {
   "cell_type": "code",
   "execution_count": 4,
   "id": "f30f5564",
   "metadata": {},
   "outputs": [],
   "source": [
    "transactions_df = df['Transactions']\n",
    "New_customers_df = df['NewCustomerList']\n",
    "customer_demographic_df = df['CustomerDemographic']\n",
    "customer_address_df = df['CustomerAddress']\n",
    "title_docx = df['Title Sheet']"
   ]
  },
  {
   "cell_type": "markdown",
   "id": "420b8f4a",
   "metadata": {},
   "source": [
    "## Assess the datasets one after the other:"
   ]
  },
  {
   "cell_type": "markdown",
   "id": "8be906bf",
   "metadata": {},
   "source": [
    "#### Transaction dataset assessment"
   ]
  },
  {
   "cell_type": "code",
   "execution_count": 9,
   "id": "236b7dc3",
   "metadata": {
    "scrolled": false
   },
   "outputs": [
    {
     "data": {
      "text/html": [
       "<div><div id=c21678fa-4caa-4362-89d2-ee8e161708bc style=\"display:none; background-color:#9D6CFF; color:white; width:200px; height:30px; padding-left:5px; border-radius:4px; flex-direction:row; justify-content:space-around; align-items:center;\" onmouseover=\"this.style.backgroundColor='#BA9BF8'\" onmouseout=\"this.style.backgroundColor='#9D6CFF'\" onclick=\"window.commands?.execute('create-mitosheet-from-dataframe-output');\">See Full Dataframe in Mito</div> <script> if (window.commands?.hasCommand('create-mitosheet-from-dataframe-output')) document.getElementById('c21678fa-4caa-4362-89d2-ee8e161708bc').style.display = 'flex' </script> <table border=\"1\" class=\"dataframe\">\n",
       "  <thead>\n",
       "    <tr style=\"text-align: right;\">\n",
       "      <th></th>\n",
       "      <th>transaction_id</th>\n",
       "      <th>product_id</th>\n",
       "      <th>customer_id</th>\n",
       "      <th>transaction_date</th>\n",
       "      <th>online_order</th>\n",
       "      <th>order_status</th>\n",
       "      <th>brand</th>\n",
       "      <th>product_line</th>\n",
       "      <th>product_class</th>\n",
       "      <th>product_size</th>\n",
       "      <th>list_price</th>\n",
       "      <th>standard_cost</th>\n",
       "      <th>product_first_sold_date</th>\n",
       "    </tr>\n",
       "  </thead>\n",
       "  <tbody>\n",
       "    <tr>\n",
       "      <th>6950</th>\n",
       "      <td>6951</td>\n",
       "      <td>73</td>\n",
       "      <td>3242</td>\n",
       "      <td>2017-11-11</td>\n",
       "      <td>0.0</td>\n",
       "      <td>Approved</td>\n",
       "      <td>Solex</td>\n",
       "      <td>Standard</td>\n",
       "      <td>medium</td>\n",
       "      <td>medium</td>\n",
       "      <td>1945.43</td>\n",
       "      <td>333.18</td>\n",
       "      <td>41848.0</td>\n",
       "    </tr>\n",
       "    <tr>\n",
       "      <th>8163</th>\n",
       "      <td>8164</td>\n",
       "      <td>74</td>\n",
       "      <td>30</td>\n",
       "      <td>2017-12-19</td>\n",
       "      <td>1.0</td>\n",
       "      <td>Approved</td>\n",
       "      <td>WeareA2B</td>\n",
       "      <td>Standard</td>\n",
       "      <td>medium</td>\n",
       "      <td>medium</td>\n",
       "      <td>1228.07</td>\n",
       "      <td>400.91</td>\n",
       "      <td>33429.0</td>\n",
       "    </tr>\n",
       "    <tr>\n",
       "      <th>9035</th>\n",
       "      <td>9036</td>\n",
       "      <td>81</td>\n",
       "      <td>818</td>\n",
       "      <td>2017-10-03</td>\n",
       "      <td>1.0</td>\n",
       "      <td>Approved</td>\n",
       "      <td>Norco Bicycles</td>\n",
       "      <td>Standard</td>\n",
       "      <td>medium</td>\n",
       "      <td>small</td>\n",
       "      <td>586.45</td>\n",
       "      <td>521.94</td>\n",
       "      <td>33429.0</td>\n",
       "    </tr>\n",
       "    <tr>\n",
       "      <th>18063</th>\n",
       "      <td>18064</td>\n",
       "      <td>78</td>\n",
       "      <td>1041</td>\n",
       "      <td>2017-12-10</td>\n",
       "      <td>0.0</td>\n",
       "      <td>Approved</td>\n",
       "      <td>Giant Bicycles</td>\n",
       "      <td>Standard</td>\n",
       "      <td>medium</td>\n",
       "      <td>large</td>\n",
       "      <td>1765.30</td>\n",
       "      <td>709.48</td>\n",
       "      <td>38193.0</td>\n",
       "    </tr>\n",
       "    <tr>\n",
       "      <th>9135</th>\n",
       "      <td>9136</td>\n",
       "      <td>41</td>\n",
       "      <td>598</td>\n",
       "      <td>2017-04-06</td>\n",
       "      <td>0.0</td>\n",
       "      <td>Approved</td>\n",
       "      <td>Norco Bicycles</td>\n",
       "      <td>Standard</td>\n",
       "      <td>low</td>\n",
       "      <td>medium</td>\n",
       "      <td>958.74</td>\n",
       "      <td>748.90</td>\n",
       "      <td>38693.0</td>\n",
       "    </tr>\n",
       "    <tr>\n",
       "      <th>18113</th>\n",
       "      <td>18114</td>\n",
       "      <td>95</td>\n",
       "      <td>647</td>\n",
       "      <td>2017-06-25</td>\n",
       "      <td>0.0</td>\n",
       "      <td>Approved</td>\n",
       "      <td>Giant Bicycles</td>\n",
       "      <td>Standard</td>\n",
       "      <td>medium</td>\n",
       "      <td>large</td>\n",
       "      <td>569.56</td>\n",
       "      <td>528.43</td>\n",
       "      <td>37337.0</td>\n",
       "    </tr>\n",
       "    <tr>\n",
       "      <th>18234</th>\n",
       "      <td>18235</td>\n",
       "      <td>0</td>\n",
       "      <td>1674</td>\n",
       "      <td>2017-09-27</td>\n",
       "      <td>0.0</td>\n",
       "      <td>Approved</td>\n",
       "      <td>OHM Cycles</td>\n",
       "      <td>Road</td>\n",
       "      <td>high</td>\n",
       "      <td>large</td>\n",
       "      <td>12.01</td>\n",
       "      <td>7.21</td>\n",
       "      <td>39880.0</td>\n",
       "    </tr>\n",
       "    <tr>\n",
       "      <th>10191</th>\n",
       "      <td>10192</td>\n",
       "      <td>19</td>\n",
       "      <td>1370</td>\n",
       "      <td>2017-11-27</td>\n",
       "      <td>1.0</td>\n",
       "      <td>Approved</td>\n",
       "      <td>OHM Cycles</td>\n",
       "      <td>Road</td>\n",
       "      <td>high</td>\n",
       "      <td>large</td>\n",
       "      <td>12.01</td>\n",
       "      <td>7.21</td>\n",
       "      <td>39880.0</td>\n",
       "    </tr>\n",
       "    <tr>\n",
       "      <th>4145</th>\n",
       "      <td>4146</td>\n",
       "      <td>3</td>\n",
       "      <td>3268</td>\n",
       "      <td>2017-05-09</td>\n",
       "      <td>0.0</td>\n",
       "      <td>Approved</td>\n",
       "      <td>Trek Bicycles</td>\n",
       "      <td>Standard</td>\n",
       "      <td>medium</td>\n",
       "      <td>large</td>\n",
       "      <td>2091.47</td>\n",
       "      <td>388.92</td>\n",
       "      <td>41009.0</td>\n",
       "    </tr>\n",
       "    <tr>\n",
       "      <th>15894</th>\n",
       "      <td>15895</td>\n",
       "      <td>66</td>\n",
       "      <td>264</td>\n",
       "      <td>2017-01-26</td>\n",
       "      <td>1.0</td>\n",
       "      <td>Approved</td>\n",
       "      <td>Giant Bicycles</td>\n",
       "      <td>Road</td>\n",
       "      <td>low</td>\n",
       "      <td>small</td>\n",
       "      <td>590.26</td>\n",
       "      <td>525.33</td>\n",
       "      <td>40487.0</td>\n",
       "    </tr>\n",
       "  </tbody>\n",
       "</table></div>"
      ],
      "text/plain": [
       "       transaction_id  product_id  customer_id transaction_date  online_order  \\\n",
       "6950             6951          73         3242       2017-11-11           0.0   \n",
       "8163             8164          74           30       2017-12-19           1.0   \n",
       "9035             9036          81          818       2017-10-03           1.0   \n",
       "18063           18064          78         1041       2017-12-10           0.0   \n",
       "9135             9136          41          598       2017-04-06           0.0   \n",
       "18113           18114          95          647       2017-06-25           0.0   \n",
       "18234           18235           0         1674       2017-09-27           0.0   \n",
       "10191           10192          19         1370       2017-11-27           1.0   \n",
       "4145             4146           3         3268       2017-05-09           0.0   \n",
       "15894           15895          66          264       2017-01-26           1.0   \n",
       "\n",
       "      order_status           brand product_line product_class product_size  \\\n",
       "6950      Approved           Solex     Standard        medium       medium   \n",
       "8163      Approved        WeareA2B     Standard        medium       medium   \n",
       "9035      Approved  Norco Bicycles     Standard        medium        small   \n",
       "18063     Approved  Giant Bicycles     Standard        medium        large   \n",
       "9135      Approved  Norco Bicycles     Standard           low       medium   \n",
       "18113     Approved  Giant Bicycles     Standard        medium        large   \n",
       "18234     Approved      OHM Cycles         Road          high        large   \n",
       "10191     Approved      OHM Cycles         Road          high        large   \n",
       "4145      Approved   Trek Bicycles     Standard        medium        large   \n",
       "15894     Approved  Giant Bicycles         Road           low        small   \n",
       "\n",
       "       list_price  standard_cost  product_first_sold_date  \n",
       "6950      1945.43         333.18                  41848.0  \n",
       "8163      1228.07         400.91                  33429.0  \n",
       "9035       586.45         521.94                  33429.0  \n",
       "18063     1765.30         709.48                  38193.0  \n",
       "9135       958.74         748.90                  38693.0  \n",
       "18113      569.56         528.43                  37337.0  \n",
       "18234       12.01           7.21                  39880.0  \n",
       "10191       12.01           7.21                  39880.0  \n",
       "4145      2091.47         388.92                  41009.0  \n",
       "15894      590.26         525.33                  40487.0  "
      ]
     },
     "execution_count": 9,
     "metadata": {},
     "output_type": "execute_result"
    }
   ],
   "source": [
    "transactions_df.sample(10)"
   ]
  },
  {
   "cell_type": "code",
   "execution_count": 10,
   "id": "97acfa8a",
   "metadata": {},
   "outputs": [
    {
     "data": {
      "text/plain": [
       "(20000, 13)"
      ]
     },
     "execution_count": 10,
     "metadata": {},
     "output_type": "execute_result"
    }
   ],
   "source": [
    "transactions_df.shape"
   ]
  },
  {
   "cell_type": "markdown",
   "id": "bc04921b",
   "metadata": {},
   "source": [
    "There are 20000 entries in the dataset."
   ]
  },
  {
   "cell_type": "markdown",
   "id": "f023ee35",
   "metadata": {},
   "source": [
    "### Note that, we're going to catch the issues as we explore the dataset which will be documented at the bottom of this notebook."
   ]
  },
  {
   "cell_type": "code",
   "execution_count": 11,
   "id": "fa9a3f71",
   "metadata": {},
   "outputs": [
    {
     "data": {
      "text/plain": [
       "transaction_id               0\n",
       "product_id                   0\n",
       "customer_id                  0\n",
       "transaction_date             0\n",
       "online_order               360\n",
       "order_status                 0\n",
       "brand                      197\n",
       "product_line               197\n",
       "product_class              197\n",
       "product_size               197\n",
       "list_price                   0\n",
       "standard_cost              197\n",
       "product_first_sold_date    197\n",
       "dtype: int64"
      ]
     },
     "execution_count": 11,
     "metadata": {},
     "output_type": "execute_result"
    }
   ],
   "source": [
    "# first check for null values\n",
    "\n",
    "transactions_df.isnull().sum()"
   ]
  },
  {
   "cell_type": "markdown",
   "id": "76af214a",
   "metadata": {},
   "source": [
    "there are null values in the dataset, which indicates an issue of completeness."
   ]
  },
  {
   "cell_type": "code",
   "execution_count": 22,
   "id": "2486180f",
   "metadata": {},
   "outputs": [
    {
     "data": {
      "text/plain": [
       "True"
      ]
     },
     "execution_count": 22,
     "metadata": {},
     "output_type": "execute_result"
    }
   ],
   "source": [
    "# check for duplicate transactions\n",
    "\n",
    "transactions_df.duplicated().all() == False"
   ]
  },
  {
   "cell_type": "markdown",
   "id": "29eccc80",
   "metadata": {},
   "source": [
    "No duplicate transactions."
   ]
  },
  {
   "cell_type": "code",
   "execution_count": 23,
   "id": "524c34a9",
   "metadata": {},
   "outputs": [
    {
     "data": {
      "text/plain": [
       "11367    42295.0\n",
       "17738    34556.0\n",
       "11489    39526.0\n",
       "13796    42688.0\n",
       "19217    42458.0\n",
       "Name: product_first_sold_date, dtype: float64"
      ]
     },
     "execution_count": 23,
     "metadata": {},
     "output_type": "execute_result"
    }
   ],
   "source": [
    "transactions_df.product_first_sold_date.sample(5)"
   ]
  },
  {
   "cell_type": "markdown",
   "id": "8ac0aab2",
   "metadata": {},
   "source": [
    "Entries in product_first_sold_date column have to be of date data type but they're float. This raises an issues of validity"
   ]
  },
  {
   "cell_type": "code",
   "execution_count": 24,
   "id": "c5fccef2",
   "metadata": {},
   "outputs": [
    {
     "data": {
      "text/plain": [
       "1.0    9829\n",
       "0.0    9811\n",
       "Name: online_order, dtype: int64"
      ]
     },
     "execution_count": 24,
     "metadata": {},
     "output_type": "execute_result"
    }
   ],
   "source": [
    "transactions_df.online_order.value_counts()"
   ]
  },
  {
   "cell_type": "markdown",
   "id": "79c0d987",
   "metadata": {},
   "source": [
    "online_order column must be boolean data type but we have float. Floating points do not give a relevant meaning to the column name online_order hence it raises an issue of validity."
   ]
  },
  {
   "cell_type": "code",
   "execution_count": 25,
   "id": "0e5dfd95",
   "metadata": {},
   "outputs": [
    {
     "data": {
      "text/plain": [
       "Approved     19821\n",
       "Cancelled      179\n",
       "Name: order_status, dtype: int64"
      ]
     },
     "execution_count": 25,
     "metadata": {},
     "output_type": "execute_result"
    }
   ],
   "source": [
    "transactions_df.order_status.value_counts()"
   ]
  },
  {
   "cell_type": "code",
   "execution_count": 26,
   "id": "ba0b6b70",
   "metadata": {},
   "outputs": [
    {
     "data": {
      "text/plain": [
       "Index(['transaction_id', 'product_id', 'customer_id', 'transaction_date',\n",
       "       'online_order', 'order_status', 'brand', 'product_line',\n",
       "       'product_class', 'product_size', 'list_price', 'standard_cost',\n",
       "       'product_first_sold_date'],\n",
       "      dtype='object')"
      ]
     },
     "execution_count": 26,
     "metadata": {},
     "output_type": "execute_result"
    }
   ],
   "source": [
    "transactions_df.columns"
   ]
  },
  {
   "cell_type": "code",
   "execution_count": 27,
   "id": "192a0541",
   "metadata": {},
   "outputs": [
    {
     "data": {
      "text/plain": [
       "7554    2017-10-10\n",
       "4808    2017-07-18\n",
       "15401   2017-05-22\n",
       "5780    2017-04-09\n",
       "4564    2017-08-26\n",
       "6153    2017-06-24\n",
       "16905   2017-08-15\n",
       "10411   2017-10-06\n",
       "7650    2017-08-01\n",
       "6595    2017-01-27\n",
       "Name: transaction_date, dtype: datetime64[ns]"
      ]
     },
     "execution_count": 27,
     "metadata": {},
     "output_type": "execute_result"
    }
   ],
   "source": [
    "transactions_df.transaction_date.sample(10)"
   ]
  },
  {
   "cell_type": "code",
   "execution_count": 37,
   "id": "8d8e587c",
   "metadata": {},
   "outputs": [
    {
     "data": {
      "text/plain": [
       "Timedelta('363 days 00:00:00')"
      ]
     },
     "execution_count": 37,
     "metadata": {},
     "output_type": "execute_result"
    }
   ],
   "source": [
    "# check the range(max-min) in the transaction_date column to see if its <=3.\n",
    "\n",
    "transactions_df.transaction_date.max() - transactions_df.transaction_date.min()"
   ]
  },
  {
   "cell_type": "markdown",
   "id": "831f5cfe",
   "metadata": {},
   "source": [
    "As shown in the above cell, the range of transaction_date is not 3 months. The dataset consist of about one year of transaction data which needs to be reduced to 3 months by choosing a reference date."
   ]
  },
  {
   "cell_type": "code",
   "execution_count": 38,
   "id": "07348bc7",
   "metadata": {},
   "outputs": [
    {
     "data": {
      "text/plain": [
       "True"
      ]
     },
     "execution_count": 38,
     "metadata": {},
     "output_type": "execute_result"
    }
   ],
   "source": [
    "# check customer_id and transaction_id for duplicate entries.\n",
    "\n",
    "\n",
    "transactions_df.customer_id.duplicated().any()"
   ]
  },
  {
   "cell_type": "markdown",
   "id": "d8e8b299",
   "metadata": {},
   "source": [
    "There is an indication of duplicate entries in customer_id because a single customer can perform multiple transactions or can purchase many products from the shop."
   ]
  },
  {
   "cell_type": "code",
   "execution_count": 66,
   "id": "53ac2858",
   "metadata": {},
   "outputs": [
    {
     "data": {
      "text/plain": [
       "False"
      ]
     },
     "execution_count": 66,
     "metadata": {},
     "output_type": "execute_result"
    }
   ],
   "source": [
    "transactions_df[['customer_id', 'transaction_id']].duplicated().any()"
   ]
  },
  {
   "cell_type": "code",
   "execution_count": 63,
   "id": "bf96945f",
   "metadata": {},
   "outputs": [
    {
     "data": {
      "text/html": [
       "<div><div id=25aa9527-e664-4e12-919c-cc921ddea43c style=\"display:none; background-color:#9D6CFF; color:white; width:200px; height:30px; padding-left:5px; border-radius:4px; flex-direction:row; justify-content:space-around; align-items:center;\" onmouseover=\"this.style.backgroundColor='#BA9BF8'\" onmouseout=\"this.style.backgroundColor='#9D6CFF'\" onclick=\"window.commands?.execute('create-mitosheet-from-dataframe-output');\">See Full Dataframe in Mito</div> <script> if (window.commands?.hasCommand('create-mitosheet-from-dataframe-output')) document.getElementById('25aa9527-e664-4e12-919c-cc921ddea43c').style.display = 'flex' </script> <table border=\"1\" class=\"dataframe\">\n",
       "  <thead>\n",
       "    <tr style=\"text-align: right;\">\n",
       "      <th></th>\n",
       "      <th>transaction_id</th>\n",
       "      <th>product_id</th>\n",
       "      <th>customer_id</th>\n",
       "      <th>transaction_date</th>\n",
       "      <th>online_order</th>\n",
       "      <th>order_status</th>\n",
       "      <th>brand</th>\n",
       "      <th>product_line</th>\n",
       "      <th>product_class</th>\n",
       "      <th>product_size</th>\n",
       "      <th>list_price</th>\n",
       "      <th>standard_cost</th>\n",
       "      <th>product_first_sold_date</th>\n",
       "    </tr>\n",
       "  </thead>\n",
       "  <tbody>\n",
       "  </tbody>\n",
       "</table></div>"
      ],
      "text/plain": [
       "Empty DataFrame\n",
       "Columns: [transaction_id, product_id, customer_id, transaction_date, online_order, order_status, brand, product_line, product_class, product_size, list_price, standard_cost, product_first_sold_date]\n",
       "Index: []"
      ]
     },
     "execution_count": 63,
     "metadata": {},
     "output_type": "execute_result"
    }
   ],
   "source": [
    "transactions_df[transactions_df.duplicated(subset=['customer_id', 'transaction_id'])]"
   ]
  },
  {
   "cell_type": "code",
   "execution_count": 67,
   "id": "5b07e2b5",
   "metadata": {},
   "outputs": [
    {
     "data": {
      "text/plain": [
       "False"
      ]
     },
     "execution_count": 67,
     "metadata": {},
     "output_type": "execute_result"
    }
   ],
   "source": [
    "transactions_df[['transaction_id']].duplicated().any()"
   ]
  },
  {
   "cell_type": "markdown",
   "id": "a37c96c2",
   "metadata": {},
   "source": [
    "There are no duplicated transactions in the transactions dataset."
   ]
  },
  {
   "cell_type": "markdown",
   "id": "59389546",
   "metadata": {},
   "source": [
    "### New customers dataset assessment"
   ]
  },
  {
   "cell_type": "code",
   "execution_count": 68,
   "id": "9ae4d7d0",
   "metadata": {},
   "outputs": [],
   "source": [
    "customers_df = New_customers_df"
   ]
  },
  {
   "cell_type": "code",
   "execution_count": 69,
   "id": "a1bbbb90",
   "metadata": {},
   "outputs": [
    {
     "data": {
      "text/plain": [
       "(1000, 23)"
      ]
     },
     "execution_count": 69,
     "metadata": {},
     "output_type": "execute_result"
    }
   ],
   "source": [
    "customers_df.shape"
   ]
  },
  {
   "cell_type": "code",
   "execution_count": 70,
   "id": "df88ad4e",
   "metadata": {},
   "outputs": [
    {
     "data": {
      "text/plain": [
       "Index(['first_name', 'last_name', 'gender',\n",
       "       'past_3_years_bike_related_purchases', 'DOB', 'job_title',\n",
       "       'job_industry_category', 'wealth_segment', 'deceased_indicator',\n",
       "       'owns_car', 'tenure', 'address', 'postcode', 'state', 'country',\n",
       "       'property_valuation', 'Unnamed: 16', 'Unnamed: 17', 'Unnamed: 18',\n",
       "       'Unnamed: 19', 'Unnamed: 20', 'Rank', 'Value'],\n",
       "      dtype='object')"
      ]
     },
     "execution_count": 70,
     "metadata": {},
     "output_type": "execute_result"
    }
   ],
   "source": [
    "customers_df.columns"
   ]
  },
  {
   "cell_type": "code",
   "execution_count": 71,
   "id": "8ee4ef9f",
   "metadata": {},
   "outputs": [
    {
     "data": {
      "text/html": [
       "<div><div id=762718b7-ff6c-46d2-bbe4-55f6986e7326 style=\"display:none; background-color:#9D6CFF; color:white; width:200px; height:30px; padding-left:5px; border-radius:4px; flex-direction:row; justify-content:space-around; align-items:center;\" onmouseover=\"this.style.backgroundColor='#BA9BF8'\" onmouseout=\"this.style.backgroundColor='#9D6CFF'\" onclick=\"window.commands?.execute('create-mitosheet-from-dataframe-output');\">See Full Dataframe in Mito</div> <script> if (window.commands?.hasCommand('create-mitosheet-from-dataframe-output')) document.getElementById('762718b7-ff6c-46d2-bbe4-55f6986e7326').style.display = 'flex' </script> <table border=\"1\" class=\"dataframe\">\n",
       "  <thead>\n",
       "    <tr style=\"text-align: right;\">\n",
       "      <th></th>\n",
       "      <th>first_name</th>\n",
       "      <th>last_name</th>\n",
       "      <th>gender</th>\n",
       "      <th>past_3_years_bike_related_purchases</th>\n",
       "      <th>DOB</th>\n",
       "      <th>job_title</th>\n",
       "      <th>job_industry_category</th>\n",
       "      <th>wealth_segment</th>\n",
       "      <th>deceased_indicator</th>\n",
       "      <th>owns_car</th>\n",
       "      <th>...</th>\n",
       "      <th>state</th>\n",
       "      <th>country</th>\n",
       "      <th>property_valuation</th>\n",
       "      <th>Unnamed: 16</th>\n",
       "      <th>Unnamed: 17</th>\n",
       "      <th>Unnamed: 18</th>\n",
       "      <th>Unnamed: 19</th>\n",
       "      <th>Unnamed: 20</th>\n",
       "      <th>Rank</th>\n",
       "      <th>Value</th>\n",
       "    </tr>\n",
       "  </thead>\n",
       "  <tbody>\n",
       "    <tr>\n",
       "      <th>9</th>\n",
       "      <td>Barthel</td>\n",
       "      <td>Docket</td>\n",
       "      <td>Male</td>\n",
       "      <td>72</td>\n",
       "      <td>1985-08-02</td>\n",
       "      <td>Accounting Assistant IV</td>\n",
       "      <td>IT</td>\n",
       "      <td>Mass Customer</td>\n",
       "      <td>N</td>\n",
       "      <td>Yes</td>\n",
       "      <td>...</td>\n",
       "      <td>QLD</td>\n",
       "      <td>Australia</td>\n",
       "      <td>5</td>\n",
       "      <td>0.84</td>\n",
       "      <td>1.0500</td>\n",
       "      <td>1.050000</td>\n",
       "      <td>0.892500</td>\n",
       "      <td>10</td>\n",
       "      <td>10</td>\n",
       "      <td>1.640625</td>\n",
       "    </tr>\n",
       "    <tr>\n",
       "      <th>620</th>\n",
       "      <td>Lek</td>\n",
       "      <td>Pimblett</td>\n",
       "      <td>Male</td>\n",
       "      <td>88</td>\n",
       "      <td>1955-09-29</td>\n",
       "      <td>Product Engineer</td>\n",
       "      <td>Financial Services</td>\n",
       "      <td>Mass Customer</td>\n",
       "      <td>N</td>\n",
       "      <td>Yes</td>\n",
       "      <td>...</td>\n",
       "      <td>NSW</td>\n",
       "      <td>Australia</td>\n",
       "      <td>2</td>\n",
       "      <td>0.62</td>\n",
       "      <td>0.7750</td>\n",
       "      <td>0.968750</td>\n",
       "      <td>0.823437</td>\n",
       "      <td>620</td>\n",
       "      <td>620</td>\n",
       "      <td>0.750000</td>\n",
       "    </tr>\n",
       "    <tr>\n",
       "      <th>827</th>\n",
       "      <td>Cristie</td>\n",
       "      <td>Bence</td>\n",
       "      <td>Female</td>\n",
       "      <td>49</td>\n",
       "      <td>2000-04-17</td>\n",
       "      <td>Automation Specialist II</td>\n",
       "      <td>NaN</td>\n",
       "      <td>High Net Worth</td>\n",
       "      <td>N</td>\n",
       "      <td>No</td>\n",
       "      <td>...</td>\n",
       "      <td>QLD</td>\n",
       "      <td>Australia</td>\n",
       "      <td>8</td>\n",
       "      <td>0.94</td>\n",
       "      <td>0.9400</td>\n",
       "      <td>0.940000</td>\n",
       "      <td>0.940000</td>\n",
       "      <td>828</td>\n",
       "      <td>828</td>\n",
       "      <td>0.580000</td>\n",
       "    </tr>\n",
       "    <tr>\n",
       "      <th>986</th>\n",
       "      <td>Consalve</td>\n",
       "      <td>Ballay</td>\n",
       "      <td>Male</td>\n",
       "      <td>41</td>\n",
       "      <td>1959-09-18</td>\n",
       "      <td>Web Developer I</td>\n",
       "      <td>IT</td>\n",
       "      <td>Mass Customer</td>\n",
       "      <td>N</td>\n",
       "      <td>Yes</td>\n",
       "      <td>...</td>\n",
       "      <td>NSW</td>\n",
       "      <td>Australia</td>\n",
       "      <td>8</td>\n",
       "      <td>0.63</td>\n",
       "      <td>0.7875</td>\n",
       "      <td>0.787500</td>\n",
       "      <td>0.669375</td>\n",
       "      <td>987</td>\n",
       "      <td>987</td>\n",
       "      <td>0.400000</td>\n",
       "    </tr>\n",
       "    <tr>\n",
       "      <th>806</th>\n",
       "      <td>Sloan</td>\n",
       "      <td>Pudney</td>\n",
       "      <td>Male</td>\n",
       "      <td>83</td>\n",
       "      <td>1964-11-10</td>\n",
       "      <td>Junior Executive</td>\n",
       "      <td>Financial Services</td>\n",
       "      <td>Affluent Customer</td>\n",
       "      <td>N</td>\n",
       "      <td>No</td>\n",
       "      <td>...</td>\n",
       "      <td>QLD</td>\n",
       "      <td>Australia</td>\n",
       "      <td>9</td>\n",
       "      <td>0.68</td>\n",
       "      <td>0.6800</td>\n",
       "      <td>0.850000</td>\n",
       "      <td>0.850000</td>\n",
       "      <td>804</td>\n",
       "      <td>804</td>\n",
       "      <td>0.595000</td>\n",
       "    </tr>\n",
       "    <tr>\n",
       "      <th>...</th>\n",
       "      <td>...</td>\n",
       "      <td>...</td>\n",
       "      <td>...</td>\n",
       "      <td>...</td>\n",
       "      <td>...</td>\n",
       "      <td>...</td>\n",
       "      <td>...</td>\n",
       "      <td>...</td>\n",
       "      <td>...</td>\n",
       "      <td>...</td>\n",
       "      <td>...</td>\n",
       "      <td>...</td>\n",
       "      <td>...</td>\n",
       "      <td>...</td>\n",
       "      <td>...</td>\n",
       "      <td>...</td>\n",
       "      <td>...</td>\n",
       "      <td>...</td>\n",
       "      <td>...</td>\n",
       "      <td>...</td>\n",
       "      <td>...</td>\n",
       "    </tr>\n",
       "    <tr>\n",
       "      <th>970</th>\n",
       "      <td>Mavra</td>\n",
       "      <td>Finan</td>\n",
       "      <td>Female</td>\n",
       "      <td>30</td>\n",
       "      <td>1967-08-23</td>\n",
       "      <td>Nurse</td>\n",
       "      <td>Property</td>\n",
       "      <td>Affluent Customer</td>\n",
       "      <td>N</td>\n",
       "      <td>Yes</td>\n",
       "      <td>...</td>\n",
       "      <td>NSW</td>\n",
       "      <td>Australia</td>\n",
       "      <td>9</td>\n",
       "      <td>0.87</td>\n",
       "      <td>1.0875</td>\n",
       "      <td>1.359375</td>\n",
       "      <td>1.359375</td>\n",
       "      <td>967</td>\n",
       "      <td>967</td>\n",
       "      <td>0.435625</td>\n",
       "    </tr>\n",
       "    <tr>\n",
       "      <th>46</th>\n",
       "      <td>Sheena</td>\n",
       "      <td>Kybbye</td>\n",
       "      <td>Female</td>\n",
       "      <td>14</td>\n",
       "      <td>1956-07-16</td>\n",
       "      <td>Paralegal</td>\n",
       "      <td>Financial Services</td>\n",
       "      <td>Affluent Customer</td>\n",
       "      <td>N</td>\n",
       "      <td>Yes</td>\n",
       "      <td>...</td>\n",
       "      <td>QLD</td>\n",
       "      <td>Australia</td>\n",
       "      <td>1</td>\n",
       "      <td>0.91</td>\n",
       "      <td>1.1375</td>\n",
       "      <td>1.137500</td>\n",
       "      <td>1.137500</td>\n",
       "      <td>46</td>\n",
       "      <td>46</td>\n",
       "      <td>1.407812</td>\n",
       "    </tr>\n",
       "    <tr>\n",
       "      <th>317</th>\n",
       "      <td>Cecelia</td>\n",
       "      <td>Cisar</td>\n",
       "      <td>Female</td>\n",
       "      <td>20</td>\n",
       "      <td>1985-03-26</td>\n",
       "      <td>NaN</td>\n",
       "      <td>Property</td>\n",
       "      <td>Mass Customer</td>\n",
       "      <td>N</td>\n",
       "      <td>Yes</td>\n",
       "      <td>...</td>\n",
       "      <td>QLD</td>\n",
       "      <td>Australia</td>\n",
       "      <td>7</td>\n",
       "      <td>0.57</td>\n",
       "      <td>0.7125</td>\n",
       "      <td>0.712500</td>\n",
       "      <td>0.605625</td>\n",
       "      <td>312</td>\n",
       "      <td>312</td>\n",
       "      <td>1.020000</td>\n",
       "    </tr>\n",
       "    <tr>\n",
       "      <th>72</th>\n",
       "      <td>Kevina</td>\n",
       "      <td>Ferandez</td>\n",
       "      <td>Female</td>\n",
       "      <td>73</td>\n",
       "      <td>1999-09-21</td>\n",
       "      <td>Assistant Professor</td>\n",
       "      <td>Financial Services</td>\n",
       "      <td>High Net Worth</td>\n",
       "      <td>N</td>\n",
       "      <td>No</td>\n",
       "      <td>...</td>\n",
       "      <td>QLD</td>\n",
       "      <td>Australia</td>\n",
       "      <td>9</td>\n",
       "      <td>0.97</td>\n",
       "      <td>0.9700</td>\n",
       "      <td>1.212500</td>\n",
       "      <td>1.212500</td>\n",
       "      <td>72</td>\n",
       "      <td>72</td>\n",
       "      <td>1.350000</td>\n",
       "    </tr>\n",
       "    <tr>\n",
       "      <th>313</th>\n",
       "      <td>Guss</td>\n",
       "      <td>Karim</td>\n",
       "      <td>Male</td>\n",
       "      <td>95</td>\n",
       "      <td>1968-11-24</td>\n",
       "      <td>Senior Sales Associate</td>\n",
       "      <td>Manufacturing</td>\n",
       "      <td>Mass Customer</td>\n",
       "      <td>N</td>\n",
       "      <td>No</td>\n",
       "      <td>...</td>\n",
       "      <td>NSW</td>\n",
       "      <td>Australia</td>\n",
       "      <td>11</td>\n",
       "      <td>0.86</td>\n",
       "      <td>0.8600</td>\n",
       "      <td>1.075000</td>\n",
       "      <td>0.913750</td>\n",
       "      <td>312</td>\n",
       "      <td>312</td>\n",
       "      <td>1.020000</td>\n",
       "    </tr>\n",
       "  </tbody>\n",
       "</table></div>"
      ],
      "text/plain": [
       "    first_name   last_name  gender  past_3_years_bike_related_purchases  \\\n",
       "9      Barthel      Docket    Male                                   72   \n",
       "620        Lek    Pimblett    Male                                   88   \n",
       "827    Cristie       Bence  Female                                   49   \n",
       "986   Consalve      Ballay    Male                                   41   \n",
       "806      Sloan      Pudney    Male                                   83   \n",
       "509  Gaultiero     Fibbens    Male                                   41   \n",
       "457       Dory     Malpass  Female                                   19   \n",
       "454    Tristam      Larose    Male                                   70   \n",
       "156      Tessa      Friese  Female                                   89   \n",
       "341  Celestina    Lethardy  Female                                   38   \n",
       "304      Manya  Abramovici  Female                                   42   \n",
       "680     Myrtie     Ostrich  Female                                   70   \n",
       "311   Claudine      Dymick  Female                                   28   \n",
       "79    Katheryn      Kinner  Female                                   15   \n",
       "633    Kearney     Cuddehy    Male                                   88   \n",
       "970      Mavra       Finan  Female                                   30   \n",
       "46      Sheena      Kybbye  Female                                   14   \n",
       "317    Cecelia       Cisar  Female                                   20   \n",
       "72      Kevina    Ferandez  Female                                   73   \n",
       "313       Guss       Karim    Male                                   95   \n",
       "\n",
       "           DOB                 job_title job_industry_category  \\\n",
       "9   1985-08-02   Accounting Assistant IV                    IT   \n",
       "620 1955-09-29          Product Engineer    Financial Services   \n",
       "827 2000-04-17  Automation Specialist II                   NaN   \n",
       "986 1959-09-18           Web Developer I                    IT   \n",
       "806 1964-11-10          Junior Executive    Financial Services   \n",
       "509 1980-03-14      Help Desk Technician                   NaN   \n",
       "457 1972-08-27                       NaN                   NaN   \n",
       "454 1985-01-29             VP Accounting    Financial Services   \n",
       "156 1976-10-24           Health Coach II    Financial Services   \n",
       "341 1968-12-11       Software Consultant                    IT   \n",
       "304 1955-07-17          Quality Engineer    Financial Services   \n",
       "680 1996-06-18        VP Quality Control              Property   \n",
       "311 1965-12-13           Design Engineer                Health   \n",
       "79  1973-11-28        Analyst Programmer         Entertainment   \n",
       "633 1997-05-18       Marketing Assistant                Retail   \n",
       "970 1967-08-23                     Nurse              Property   \n",
       "46  1956-07-16                 Paralegal    Financial Services   \n",
       "317 1985-03-26                       NaN              Property   \n",
       "72  1999-09-21       Assistant Professor    Financial Services   \n",
       "313 1968-11-24    Senior Sales Associate         Manufacturing   \n",
       "\n",
       "        wealth_segment deceased_indicator owns_car  ...  state    country  \\\n",
       "9        Mass Customer                  N      Yes  ...    QLD  Australia   \n",
       "620      Mass Customer                  N      Yes  ...    NSW  Australia   \n",
       "827     High Net Worth                  N       No  ...    QLD  Australia   \n",
       "986      Mass Customer                  N      Yes  ...    NSW  Australia   \n",
       "806  Affluent Customer                  N       No  ...    QLD  Australia   \n",
       "509  Affluent Customer                  N       No  ...    NSW  Australia   \n",
       "457  Affluent Customer                  N      Yes  ...    QLD  Australia   \n",
       "454      Mass Customer                  N       No  ...    NSW  Australia   \n",
       "156      Mass Customer                  N       No  ...    QLD  Australia   \n",
       "341      Mass Customer                  N      Yes  ...    VIC  Australia   \n",
       "304     High Net Worth                  N      Yes  ...    QLD  Australia   \n",
       "680  Affluent Customer                  N      Yes  ...    NSW  Australia   \n",
       "311      Mass Customer                  N       No  ...    VIC  Australia   \n",
       "79      High Net Worth                  N       No  ...    NSW  Australia   \n",
       "633      Mass Customer                  N       No  ...    QLD  Australia   \n",
       "970  Affluent Customer                  N      Yes  ...    NSW  Australia   \n",
       "46   Affluent Customer                  N      Yes  ...    QLD  Australia   \n",
       "317      Mass Customer                  N      Yes  ...    QLD  Australia   \n",
       "72      High Net Worth                  N       No  ...    QLD  Australia   \n",
       "313      Mass Customer                  N       No  ...    NSW  Australia   \n",
       "\n",
       "     property_valuation Unnamed: 16 Unnamed: 17  Unnamed: 18  Unnamed: 19  \\\n",
       "9                     5        0.84      1.0500     1.050000     0.892500   \n",
       "620                   2        0.62      0.7750     0.968750     0.823437   \n",
       "827                   8        0.94      0.9400     0.940000     0.940000   \n",
       "986                   8        0.63      0.7875     0.787500     0.669375   \n",
       "806                   9        0.68      0.6800     0.850000     0.850000   \n",
       "509                  11        0.58      0.5800     0.725000     0.725000   \n",
       "457                   8        0.48      0.6000     0.600000     0.600000   \n",
       "454                  11        0.53      0.5300     0.662500     0.563125   \n",
       "156                   9        0.41      0.4100     0.512500     0.435625   \n",
       "341                  10        0.92      1.1500     1.437500     1.221875   \n",
       "304                   8        1.05      1.3125     1.312500     1.312500   \n",
       "680                   7        0.91      1.1375     1.137500     1.137500   \n",
       "311                   5        0.49      0.4900     0.490000     0.416500   \n",
       "79                    6        0.68      0.6800     0.680000     0.680000   \n",
       "633                   6        0.54      0.5400     0.675000     0.573750   \n",
       "970                   9        0.87      1.0875     1.359375     1.359375   \n",
       "46                    1        0.91      1.1375     1.137500     1.137500   \n",
       "317                   7        0.57      0.7125     0.712500     0.605625   \n",
       "72                    9        0.97      0.9700     1.212500     1.212500   \n",
       "313                  11        0.86      0.8600     1.075000     0.913750   \n",
       "\n",
       "     Unnamed: 20  Rank     Value  \n",
       "9             10    10  1.640625  \n",
       "620          620   620  0.750000  \n",
       "827          828   828  0.580000  \n",
       "986          987   987  0.400000  \n",
       "806          804   804  0.595000  \n",
       "509          507   507  0.850000  \n",
       "457          455   455  0.892500  \n",
       "454          455   455  0.892500  \n",
       "156          157   157  1.195312  \n",
       "341          341   341  0.990000  \n",
       "304          304   304  1.025000  \n",
       "680          676   676  0.701250  \n",
       "311          312   312  1.020000  \n",
       "79            78    78  1.337500  \n",
       "633          634   634  0.739500  \n",
       "970          967   967  0.435625  \n",
       "46            46    46  1.407812  \n",
       "317          312   312  1.020000  \n",
       "72            72    72  1.350000  \n",
       "313          312   312  1.020000  \n",
       "\n",
       "[20 rows x 23 columns]"
      ]
     },
     "execution_count": 71,
     "metadata": {},
     "output_type": "execute_result"
    }
   ],
   "source": [
    "customers_df.sample(20)"
   ]
  },
  {
   "cell_type": "markdown",
   "id": "861433bc",
   "metadata": {},
   "source": [
    "There are 1000 customers in the customers dataset"
   ]
  },
  {
   "cell_type": "code",
   "execution_count": null,
   "id": "41f19b27",
   "metadata": {},
   "outputs": [],
   "source": []
  },
  {
   "cell_type": "code",
   "execution_count": null,
   "id": "266ac86d",
   "metadata": {},
   "outputs": [],
   "source": []
  },
  {
   "cell_type": "code",
   "execution_count": null,
   "id": "5cca0746",
   "metadata": {},
   "outputs": [],
   "source": []
  },
  {
   "cell_type": "markdown",
   "id": "d58ee3b7",
   "metadata": {},
   "source": [
    "### Data quality Issues:\n",
    "> Completenes:\n",
    "    >1. There are null values in the online_order, brand, product_line, product_class, product_size, standard_cost, product_first_sold_date columns.\n",
    "    >2\n",
    "    \n",
    "> Consistency:\n",
    "    >1. List_price and standard_cost columns of some products are not consistent. We can have two products of the same size, class, brand and product_line with different list_price and different standard_cost. \n",
    "    \n",
    "> Accuracy:\n",
    "    >1. \n",
    "    \n",
    "> Currency:\n",
    "    >1. Transaction_date column contains data points that are not current,i.e., they are over three(3) months old. This can be resolved by getting the last three months of transaction data.\n",
    "    >2. Customers dataset contains information about customers' purchases in the last three (3) years which is also irrelevant since we're considering the last three (3) months of data.\n",
    "    \n",
    "> Relevancy:\n",
    "    >1. Product_class column is not relevant since there is also product_size columns. Both seem to have same format and interpretation therefore it is irrelevant to make use of both.\n",
    "    >2. product_first_sold_date column is not relevant in a transaction database.\n",
    "    \n",
    "> Validity:\n",
    "    >1. product_first_sold_date cloumn's data points are not valid date/datetime values.\n",
    "    >2. online_order has invalid data types\n",
    "    \n",
    "> Uniquesness:\n",
    "    >1. \n",
    "    \n",
    "    \n"
   ]
  },
  {
   "cell_type": "code",
   "execution_count": null,
   "id": "b8de0f5d",
   "metadata": {},
   "outputs": [],
   "source": []
  }
 ],
 "metadata": {
  "kernelspec": {
   "display_name": "Python 3 (ipykernel)",
   "language": "python",
   "name": "python3"
  },
  "language_info": {
   "codemirror_mode": {
    "name": "ipython",
    "version": 3
   },
   "file_extension": ".py",
   "mimetype": "text/x-python",
   "name": "python",
   "nbconvert_exporter": "python",
   "pygments_lexer": "ipython3",
   "version": "3.10.4"
  }
 },
 "nbformat": 4,
 "nbformat_minor": 5
}
