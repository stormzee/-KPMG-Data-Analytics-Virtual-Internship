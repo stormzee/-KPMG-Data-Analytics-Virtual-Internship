{
 "cells": [
  {
   "cell_type": "code",
   "execution_count": 1,
   "id": "8d274c4d",
   "metadata": {},
   "outputs": [],
   "source": [
    "import pandas as pd\n",
    "import warnings\n",
    "warnings.filterwarnings('ignore')\n",
    "import pygwalker as pyg"
   ]
  },
  {
   "cell_type": "markdown",
   "id": "62cb70bf",
   "metadata": {},
   "source": [
    "### Read the data into a dataframe"
   ]
  },
  {
   "cell_type": "code",
   "execution_count": 2,
   "id": "40520689",
   "metadata": {},
   "outputs": [],
   "source": [
    "# read the data\n",
    "\n",
    "df = pd.read_excel('KPMG_VI_New_raw_data_update_final.xlsx',sheet_name=None, header=1)"
   ]
  },
  {
   "cell_type": "code",
   "execution_count": 3,
   "id": "56fbaac9",
   "metadata": {},
   "outputs": [
    {
     "name": "stdout",
     "output_type": "stream",
     "text": [
      "dict_keys(['Title Sheet', 'Transactions', 'NewCustomerList', 'CustomerDemographic', 'CustomerAddress'])\n"
     ]
    }
   ],
   "source": [
    "print(df.keys())"
   ]
  },
  {
   "cell_type": "markdown",
   "id": "b77130ed",
   "metadata": {},
   "source": [
    "###  Assigning sheets to dataframe objects"
   ]
  },
  {
   "cell_type": "code",
   "execution_count": 4,
   "id": "f30f5564",
   "metadata": {},
   "outputs": [],
   "source": [
    "transactions_df = df['Transactions']\n",
    "New_customers_df = df['NewCustomerList']\n",
    "customer_demographic_df = df['CustomerDemographic']\n",
    "customer_address_df = df['CustomerAddress']\n",
    "title_docx = df['Title Sheet']"
   ]
  },
  {
   "cell_type": "markdown",
   "id": "420b8f4a",
   "metadata": {},
   "source": [
    "## Assess the datasets one after the other:"
   ]
  },
  {
   "cell_type": "markdown",
   "id": "8be906bf",
   "metadata": {},
   "source": [
    "#### Transaction dataset assessment"
   ]
  },
  {
   "cell_type": "code",
   "execution_count": 9,
   "id": "236b7dc3",
   "metadata": {
    "scrolled": false
   },
   "outputs": [
    {
     "data": {
      "text/html": [
       "<div><div id=c21678fa-4caa-4362-89d2-ee8e161708bc style=\"display:none; background-color:#9D6CFF; color:white; width:200px; height:30px; padding-left:5px; border-radius:4px; flex-direction:row; justify-content:space-around; align-items:center;\" onmouseover=\"this.style.backgroundColor='#BA9BF8'\" onmouseout=\"this.style.backgroundColor='#9D6CFF'\" onclick=\"window.commands?.execute('create-mitosheet-from-dataframe-output');\">See Full Dataframe in Mito</div> <script> if (window.commands?.hasCommand('create-mitosheet-from-dataframe-output')) document.getElementById('c21678fa-4caa-4362-89d2-ee8e161708bc').style.display = 'flex' </script> <table border=\"1\" class=\"dataframe\">\n",
       "  <thead>\n",
       "    <tr style=\"text-align: right;\">\n",
       "      <th></th>\n",
       "      <th>transaction_id</th>\n",
       "      <th>product_id</th>\n",
       "      <th>customer_id</th>\n",
       "      <th>transaction_date</th>\n",
       "      <th>online_order</th>\n",
       "      <th>order_status</th>\n",
       "      <th>brand</th>\n",
       "      <th>product_line</th>\n",
       "      <th>product_class</th>\n",
       "      <th>product_size</th>\n",
       "      <th>list_price</th>\n",
       "      <th>standard_cost</th>\n",
       "      <th>product_first_sold_date</th>\n",
       "    </tr>\n",
       "  </thead>\n",
       "  <tbody>\n",
       "    <tr>\n",
       "      <th>6950</th>\n",
       "      <td>6951</td>\n",
       "      <td>73</td>\n",
       "      <td>3242</td>\n",
       "      <td>2017-11-11</td>\n",
       "      <td>0.0</td>\n",
       "      <td>Approved</td>\n",
       "      <td>Solex</td>\n",
       "      <td>Standard</td>\n",
       "      <td>medium</td>\n",
       "      <td>medium</td>\n",
       "      <td>1945.43</td>\n",
       "      <td>333.18</td>\n",
       "      <td>41848.0</td>\n",
       "    </tr>\n",
       "    <tr>\n",
       "      <th>8163</th>\n",
       "      <td>8164</td>\n",
       "      <td>74</td>\n",
       "      <td>30</td>\n",
       "      <td>2017-12-19</td>\n",
       "      <td>1.0</td>\n",
       "      <td>Approved</td>\n",
       "      <td>WeareA2B</td>\n",
       "      <td>Standard</td>\n",
       "      <td>medium</td>\n",
       "      <td>medium</td>\n",
       "      <td>1228.07</td>\n",
       "      <td>400.91</td>\n",
       "      <td>33429.0</td>\n",
       "    </tr>\n",
       "    <tr>\n",
       "      <th>9035</th>\n",
       "      <td>9036</td>\n",
       "      <td>81</td>\n",
       "      <td>818</td>\n",
       "      <td>2017-10-03</td>\n",
       "      <td>1.0</td>\n",
       "      <td>Approved</td>\n",
       "      <td>Norco Bicycles</td>\n",
       "      <td>Standard</td>\n",
       "      <td>medium</td>\n",
       "      <td>small</td>\n",
       "      <td>586.45</td>\n",
       "      <td>521.94</td>\n",
       "      <td>33429.0</td>\n",
       "    </tr>\n",
       "    <tr>\n",
       "      <th>18063</th>\n",
       "      <td>18064</td>\n",
       "      <td>78</td>\n",
       "      <td>1041</td>\n",
       "      <td>2017-12-10</td>\n",
       "      <td>0.0</td>\n",
       "      <td>Approved</td>\n",
       "      <td>Giant Bicycles</td>\n",
       "      <td>Standard</td>\n",
       "      <td>medium</td>\n",
       "      <td>large</td>\n",
       "      <td>1765.30</td>\n",
       "      <td>709.48</td>\n",
       "      <td>38193.0</td>\n",
       "    </tr>\n",
       "    <tr>\n",
       "      <th>9135</th>\n",
       "      <td>9136</td>\n",
       "      <td>41</td>\n",
       "      <td>598</td>\n",
       "      <td>2017-04-06</td>\n",
       "      <td>0.0</td>\n",
       "      <td>Approved</td>\n",
       "      <td>Norco Bicycles</td>\n",
       "      <td>Standard</td>\n",
       "      <td>low</td>\n",
       "      <td>medium</td>\n",
       "      <td>958.74</td>\n",
       "      <td>748.90</td>\n",
       "      <td>38693.0</td>\n",
       "    </tr>\n",
       "    <tr>\n",
       "      <th>18113</th>\n",
       "      <td>18114</td>\n",
       "      <td>95</td>\n",
       "      <td>647</td>\n",
       "      <td>2017-06-25</td>\n",
       "      <td>0.0</td>\n",
       "      <td>Approved</td>\n",
       "      <td>Giant Bicycles</td>\n",
       "      <td>Standard</td>\n",
       "      <td>medium</td>\n",
       "      <td>large</td>\n",
       "      <td>569.56</td>\n",
       "      <td>528.43</td>\n",
       "      <td>37337.0</td>\n",
       "    </tr>\n",
       "    <tr>\n",
       "      <th>18234</th>\n",
       "      <td>18235</td>\n",
       "      <td>0</td>\n",
       "      <td>1674</td>\n",
       "      <td>2017-09-27</td>\n",
       "      <td>0.0</td>\n",
       "      <td>Approved</td>\n",
       "      <td>OHM Cycles</td>\n",
       "      <td>Road</td>\n",
       "      <td>high</td>\n",
       "      <td>large</td>\n",
       "      <td>12.01</td>\n",
       "      <td>7.21</td>\n",
       "      <td>39880.0</td>\n",
       "    </tr>\n",
       "    <tr>\n",
       "      <th>10191</th>\n",
       "      <td>10192</td>\n",
       "      <td>19</td>\n",
       "      <td>1370</td>\n",
       "      <td>2017-11-27</td>\n",
       "      <td>1.0</td>\n",
       "      <td>Approved</td>\n",
       "      <td>OHM Cycles</td>\n",
       "      <td>Road</td>\n",
       "      <td>high</td>\n",
       "      <td>large</td>\n",
       "      <td>12.01</td>\n",
       "      <td>7.21</td>\n",
       "      <td>39880.0</td>\n",
       "    </tr>\n",
       "    <tr>\n",
       "      <th>4145</th>\n",
       "      <td>4146</td>\n",
       "      <td>3</td>\n",
       "      <td>3268</td>\n",
       "      <td>2017-05-09</td>\n",
       "      <td>0.0</td>\n",
       "      <td>Approved</td>\n",
       "      <td>Trek Bicycles</td>\n",
       "      <td>Standard</td>\n",
       "      <td>medium</td>\n",
       "      <td>large</td>\n",
       "      <td>2091.47</td>\n",
       "      <td>388.92</td>\n",
       "      <td>41009.0</td>\n",
       "    </tr>\n",
       "    <tr>\n",
       "      <th>15894</th>\n",
       "      <td>15895</td>\n",
       "      <td>66</td>\n",
       "      <td>264</td>\n",
       "      <td>2017-01-26</td>\n",
       "      <td>1.0</td>\n",
       "      <td>Approved</td>\n",
       "      <td>Giant Bicycles</td>\n",
       "      <td>Road</td>\n",
       "      <td>low</td>\n",
       "      <td>small</td>\n",
       "      <td>590.26</td>\n",
       "      <td>525.33</td>\n",
       "      <td>40487.0</td>\n",
       "    </tr>\n",
       "  </tbody>\n",
       "</table></div>"
      ],
      "text/plain": [
       "       transaction_id  product_id  customer_id transaction_date  online_order  \\\n",
       "6950             6951          73         3242       2017-11-11           0.0   \n",
       "8163             8164          74           30       2017-12-19           1.0   \n",
       "9035             9036          81          818       2017-10-03           1.0   \n",
       "18063           18064          78         1041       2017-12-10           0.0   \n",
       "9135             9136          41          598       2017-04-06           0.0   \n",
       "18113           18114          95          647       2017-06-25           0.0   \n",
       "18234           18235           0         1674       2017-09-27           0.0   \n",
       "10191           10192          19         1370       2017-11-27           1.0   \n",
       "4145             4146           3         3268       2017-05-09           0.0   \n",
       "15894           15895          66          264       2017-01-26           1.0   \n",
       "\n",
       "      order_status           brand product_line product_class product_size  \\\n",
       "6950      Approved           Solex     Standard        medium       medium   \n",
       "8163      Approved        WeareA2B     Standard        medium       medium   \n",
       "9035      Approved  Norco Bicycles     Standard        medium        small   \n",
       "18063     Approved  Giant Bicycles     Standard        medium        large   \n",
       "9135      Approved  Norco Bicycles     Standard           low       medium   \n",
       "18113     Approved  Giant Bicycles     Standard        medium        large   \n",
       "18234     Approved      OHM Cycles         Road          high        large   \n",
       "10191     Approved      OHM Cycles         Road          high        large   \n",
       "4145      Approved   Trek Bicycles     Standard        medium        large   \n",
       "15894     Approved  Giant Bicycles         Road           low        small   \n",
       "\n",
       "       list_price  standard_cost  product_first_sold_date  \n",
       "6950      1945.43         333.18                  41848.0  \n",
       "8163      1228.07         400.91                  33429.0  \n",
       "9035       586.45         521.94                  33429.0  \n",
       "18063     1765.30         709.48                  38193.0  \n",
       "9135       958.74         748.90                  38693.0  \n",
       "18113      569.56         528.43                  37337.0  \n",
       "18234       12.01           7.21                  39880.0  \n",
       "10191       12.01           7.21                  39880.0  \n",
       "4145      2091.47         388.92                  41009.0  \n",
       "15894      590.26         525.33                  40487.0  "
      ]
     },
     "execution_count": 9,
     "metadata": {},
     "output_type": "execute_result"
    }
   ],
   "source": [
    "transactions_df.sample(10)"
   ]
  },
  {
   "cell_type": "code",
   "execution_count": 10,
   "id": "97acfa8a",
   "metadata": {},
   "outputs": [
    {
     "data": {
      "text/plain": [
       "(20000, 13)"
      ]
     },
     "execution_count": 10,
     "metadata": {},
     "output_type": "execute_result"
    }
   ],
   "source": [
    "transactions_df.shape"
   ]
  },
  {
   "cell_type": "markdown",
   "id": "bc04921b",
   "metadata": {},
   "source": [
    "There are 20000 entries in the dataset."
   ]
  },
  {
   "cell_type": "markdown",
   "id": "f023ee35",
   "metadata": {},
   "source": [
    "### Note that, we're going to catch the issues as we explore the dataset which will be documented at the bottom of this notebook."
   ]
  },
  {
   "cell_type": "code",
   "execution_count": 11,
   "id": "fa9a3f71",
   "metadata": {},
   "outputs": [
    {
     "data": {
      "text/plain": [
       "transaction_id               0\n",
       "product_id                   0\n",
       "customer_id                  0\n",
       "transaction_date             0\n",
       "online_order               360\n",
       "order_status                 0\n",
       "brand                      197\n",
       "product_line               197\n",
       "product_class              197\n",
       "product_size               197\n",
       "list_price                   0\n",
       "standard_cost              197\n",
       "product_first_sold_date    197\n",
       "dtype: int64"
      ]
     },
     "execution_count": 11,
     "metadata": {},
     "output_type": "execute_result"
    }
   ],
   "source": [
    "# first check for null values\n",
    "\n",
    "transactions_df.isnull().sum()"
   ]
  },
  {
   "cell_type": "markdown",
   "id": "76af214a",
   "metadata": {},
   "source": [
    "there are null values in the dataset, which indicates an issue of completeness."
   ]
  },
  {
   "cell_type": "code",
   "execution_count": 22,
   "id": "2486180f",
   "metadata": {},
   "outputs": [
    {
     "data": {
      "text/plain": [
       "True"
      ]
     },
     "execution_count": 22,
     "metadata": {},
     "output_type": "execute_result"
    }
   ],
   "source": [
    "# check for duplicate transactions\n",
    "\n",
    "transactions_df.duplicated().all() == False"
   ]
  },
  {
   "cell_type": "markdown",
   "id": "29eccc80",
   "metadata": {},
   "source": [
    "No duplicate transactions."
   ]
  },
  {
   "cell_type": "code",
   "execution_count": 23,
   "id": "524c34a9",
   "metadata": {},
   "outputs": [
    {
     "data": {
      "text/plain": [
       "11367    42295.0\n",
       "17738    34556.0\n",
       "11489    39526.0\n",
       "13796    42688.0\n",
       "19217    42458.0\n",
       "Name: product_first_sold_date, dtype: float64"
      ]
     },
     "execution_count": 23,
     "metadata": {},
     "output_type": "execute_result"
    }
   ],
   "source": [
    "transactions_df.product_first_sold_date.sample(5)"
   ]
  },
  {
   "cell_type": "markdown",
   "id": "8ac0aab2",
   "metadata": {},
   "source": [
    "Entries in product_first_sold_date column have to be of date data type but they're float. This raises an issues of validity"
   ]
  },
  {
   "cell_type": "code",
   "execution_count": 24,
   "id": "c5fccef2",
   "metadata": {},
   "outputs": [
    {
     "data": {
      "text/plain": [
       "1.0    9829\n",
       "0.0    9811\n",
       "Name: online_order, dtype: int64"
      ]
     },
     "execution_count": 24,
     "metadata": {},
     "output_type": "execute_result"
    }
   ],
   "source": [
    "transactions_df.online_order.value_counts()"
   ]
  },
  {
   "cell_type": "markdown",
   "id": "79c0d987",
   "metadata": {},
   "source": [
    "online_order column must be boolean data type but we have float. Floating points do not give a relevant meaning to the column name online_order hence it raises an issue of validity."
   ]
  },
  {
   "cell_type": "code",
   "execution_count": 25,
   "id": "0e5dfd95",
   "metadata": {},
   "outputs": [
    {
     "data": {
      "text/plain": [
       "Approved     19821\n",
       "Cancelled      179\n",
       "Name: order_status, dtype: int64"
      ]
     },
     "execution_count": 25,
     "metadata": {},
     "output_type": "execute_result"
    }
   ],
   "source": [
    "transactions_df.order_status.value_counts()"
   ]
  },
  {
   "cell_type": "code",
   "execution_count": 26,
   "id": "ba0b6b70",
   "metadata": {},
   "outputs": [
    {
     "data": {
      "text/plain": [
       "Index(['transaction_id', 'product_id', 'customer_id', 'transaction_date',\n",
       "       'online_order', 'order_status', 'brand', 'product_line',\n",
       "       'product_class', 'product_size', 'list_price', 'standard_cost',\n",
       "       'product_first_sold_date'],\n",
       "      dtype='object')"
      ]
     },
     "execution_count": 26,
     "metadata": {},
     "output_type": "execute_result"
    }
   ],
   "source": [
    "transactions_df.columns"
   ]
  },
  {
   "cell_type": "code",
   "execution_count": 27,
   "id": "192a0541",
   "metadata": {},
   "outputs": [
    {
     "data": {
      "text/plain": [
       "7554    2017-10-10\n",
       "4808    2017-07-18\n",
       "15401   2017-05-22\n",
       "5780    2017-04-09\n",
       "4564    2017-08-26\n",
       "6153    2017-06-24\n",
       "16905   2017-08-15\n",
       "10411   2017-10-06\n",
       "7650    2017-08-01\n",
       "6595    2017-01-27\n",
       "Name: transaction_date, dtype: datetime64[ns]"
      ]
     },
     "execution_count": 27,
     "metadata": {},
     "output_type": "execute_result"
    }
   ],
   "source": [
    "transactions_df.transaction_date.sample(10)"
   ]
  },
  {
   "cell_type": "code",
   "execution_count": 37,
   "id": "8d8e587c",
   "metadata": {},
   "outputs": [
    {
     "data": {
      "text/plain": [
       "Timedelta('363 days 00:00:00')"
      ]
     },
     "execution_count": 37,
     "metadata": {},
     "output_type": "execute_result"
    }
   ],
   "source": [
    "# check the range(max-min) in the transaction_date column to see if its <=3.\n",
    "\n",
    "transactions_df.transaction_date.max() - transactions_df.transaction_date.min()"
   ]
  },
  {
   "cell_type": "markdown",
   "id": "1b16832d",
   "metadata": {},
   "source": [
    "As shown in the above cell, the range of transaction_date is not 3 months. The dataset consist of about one year of transaction data which needs to be reduced to 3 months by choosing a reference date."
   ]
  },
  {
   "cell_type": "code",
   "execution_count": 38,
   "id": "07348bc7",
   "metadata": {},
   "outputs": [
    {
     "data": {
      "text/plain": [
       "True"
      ]
     },
     "execution_count": 38,
     "metadata": {},
     "output_type": "execute_result"
    }
   ],
   "source": [
    "# check customer_id and transaction_id for duplicate entries.\n",
    "\n",
    "\n",
    "transactions_df.customer_id.duplicated().any()"
   ]
  },
  {
   "cell_type": "markdown",
   "id": "1829ac41",
   "metadata": {},
   "source": [
    "There is an indication of duplicate entries in customer_id because a single customer can perform multiple transactions or can purchase many products from the shop."
   ]
  },
  {
   "cell_type": "code",
   "execution_count": 66,
   "id": "3c49fcf0",
   "metadata": {},
   "outputs": [
    {
     "data": {
      "text/plain": [
       "False"
      ]
     },
     "execution_count": 66,
     "metadata": {},
     "output_type": "execute_result"
    }
   ],
   "source": [
    "transactions_df[['customer_id', 'transaction_id']].duplicated().any()"
   ]
  },
  {
   "cell_type": "code",
   "execution_count": 63,
   "id": "c1e2833e",
   "metadata": {},
   "outputs": [
    {
     "data": {
      "text/html": [
       "<div><div id=25aa9527-e664-4e12-919c-cc921ddea43c style=\"display:none; background-color:#9D6CFF; color:white; width:200px; height:30px; padding-left:5px; border-radius:4px; flex-direction:row; justify-content:space-around; align-items:center;\" onmouseover=\"this.style.backgroundColor='#BA9BF8'\" onmouseout=\"this.style.backgroundColor='#9D6CFF'\" onclick=\"window.commands?.execute('create-mitosheet-from-dataframe-output');\">See Full Dataframe in Mito</div> <script> if (window.commands?.hasCommand('create-mitosheet-from-dataframe-output')) document.getElementById('25aa9527-e664-4e12-919c-cc921ddea43c').style.display = 'flex' </script> <table border=\"1\" class=\"dataframe\">\n",
       "  <thead>\n",
       "    <tr style=\"text-align: right;\">\n",
       "      <th></th>\n",
       "      <th>transaction_id</th>\n",
       "      <th>product_id</th>\n",
       "      <th>customer_id</th>\n",
       "      <th>transaction_date</th>\n",
       "      <th>online_order</th>\n",
       "      <th>order_status</th>\n",
       "      <th>brand</th>\n",
       "      <th>product_line</th>\n",
       "      <th>product_class</th>\n",
       "      <th>product_size</th>\n",
       "      <th>list_price</th>\n",
       "      <th>standard_cost</th>\n",
       "      <th>product_first_sold_date</th>\n",
       "    </tr>\n",
       "  </thead>\n",
       "  <tbody>\n",
       "  </tbody>\n",
       "</table></div>"
      ],
      "text/plain": [
       "Empty DataFrame\n",
       "Columns: [transaction_id, product_id, customer_id, transaction_date, online_order, order_status, brand, product_line, product_class, product_size, list_price, standard_cost, product_first_sold_date]\n",
       "Index: []"
      ]
     },
     "execution_count": 63,
     "metadata": {},
     "output_type": "execute_result"
    }
   ],
   "source": [
    "transactions_df[transactions_df.duplicated(subset=['customer_id', 'transaction_id'])]"
   ]
  },
  {
   "cell_type": "code",
   "execution_count": 67,
   "id": "86192330",
   "metadata": {},
   "outputs": [
    {
     "data": {
      "text/plain": [
       "False"
      ]
     },
     "execution_count": 67,
     "metadata": {},
     "output_type": "execute_result"
    }
   ],
   "source": [
    "transactions_df[['transaction_id']].duplicated().any()"
   ]
  },
  {
   "cell_type": "markdown",
   "id": "9d0178d9",
   "metadata": {},
   "source": [
    "There are no duplicated transactions in the transactions dataset."
   ]
  },
  {
   "cell_type": "markdown",
   "id": "c200e119",
   "metadata": {},
   "source": [
    "### New customers dataset assessment"
   ]
  },
  {
   "cell_type": "code",
   "execution_count": 68,
   "id": "d7f76acd",
   "metadata": {},
   "outputs": [],
   "source": [
    "customers_df = New_customers_df"
   ]
  },
  {
   "cell_type": "code",
   "execution_count": 69,
   "id": "4e6035e7",
   "metadata": {},
   "outputs": [
    {
     "data": {
      "text/plain": [
       "(1000, 23)"
      ]
     },
     "execution_count": 69,
     "metadata": {},
     "output_type": "execute_result"
    }
   ],
   "source": [
    "customers_df.shape"
   ]
  },
  {
   "cell_type": "markdown",
   "id": "85a919f9",
   "metadata": {},
   "source": [
    "There are 1000 customers in the customers dataset"
   ]
  },
  {
   "cell_type": "code",
   "execution_count": 70,
   "id": "0fc93369",
   "metadata": {},
   "outputs": [
    {
     "data": {
      "text/plain": [
       "Index(['first_name', 'last_name', 'gender',\n",
       "       'past_3_years_bike_related_purchases', 'DOB', 'job_title',\n",
       "       'job_industry_category', 'wealth_segment', 'deceased_indicator',\n",
       "       'owns_car', 'tenure', 'address', 'postcode', 'state', 'country',\n",
       "       'property_valuation', 'Unnamed: 16', 'Unnamed: 17', 'Unnamed: 18',\n",
       "       'Unnamed: 19', 'Unnamed: 20', 'Rank', 'Value'],\n",
       "      dtype='object')"
      ]
     },
     "execution_count": 70,
     "metadata": {},
     "output_type": "execute_result"
    }
   ],
   "source": [
    "customers_df.columns"
   ]
  },
  {
   "cell_type": "code",
   "execution_count": 72,
   "id": "f8ef6e17",
   "metadata": {},
   "outputs": [
    {
     "data": {
      "text/html": [
       "<div><div id=4751da59-101d-47a7-8f30-0fc0476ef4b3 style=\"display:none; background-color:#9D6CFF; color:white; width:200px; height:30px; padding-left:5px; border-radius:4px; flex-direction:row; justify-content:space-around; align-items:center;\" onmouseover=\"this.style.backgroundColor='#BA9BF8'\" onmouseout=\"this.style.backgroundColor='#9D6CFF'\" onclick=\"window.commands?.execute('create-mitosheet-from-dataframe-output');\">See Full Dataframe in Mito</div> <script> if (window.commands?.hasCommand('create-mitosheet-from-dataframe-output')) document.getElementById('4751da59-101d-47a7-8f30-0fc0476ef4b3').style.display = 'flex' </script> <table border=\"1\" class=\"dataframe\">\n",
       "  <thead>\n",
       "    <tr style=\"text-align: right;\">\n",
       "      <th></th>\n",
       "      <th>first_name</th>\n",
       "      <th>last_name</th>\n",
       "      <th>gender</th>\n",
       "      <th>past_3_years_bike_related_purchases</th>\n",
       "      <th>DOB</th>\n",
       "      <th>job_title</th>\n",
       "      <th>job_industry_category</th>\n",
       "      <th>wealth_segment</th>\n",
       "      <th>deceased_indicator</th>\n",
       "      <th>owns_car</th>\n",
       "      <th>...</th>\n",
       "      <th>state</th>\n",
       "      <th>country</th>\n",
       "      <th>property_valuation</th>\n",
       "      <th>Unnamed: 16</th>\n",
       "      <th>Unnamed: 17</th>\n",
       "      <th>Unnamed: 18</th>\n",
       "      <th>Unnamed: 19</th>\n",
       "      <th>Unnamed: 20</th>\n",
       "      <th>Rank</th>\n",
       "      <th>Value</th>\n",
       "    </tr>\n",
       "  </thead>\n",
       "  <tbody>\n",
       "    <tr>\n",
       "      <th>748</th>\n",
       "      <td>Mikol</td>\n",
       "      <td>Eck</td>\n",
       "      <td>Male</td>\n",
       "      <td>99</td>\n",
       "      <td>1975-07-25</td>\n",
       "      <td>VP Marketing</td>\n",
       "      <td>Financial Services</td>\n",
       "      <td>Mass Customer</td>\n",
       "      <td>N</td>\n",
       "      <td>Yes</td>\n",
       "      <td>...</td>\n",
       "      <td>QLD</td>\n",
       "      <td>Australia</td>\n",
       "      <td>9</td>\n",
       "      <td>0.90</td>\n",
       "      <td>1.1250</td>\n",
       "      <td>1.406250</td>\n",
       "      <td>1.195312</td>\n",
       "      <td>748</td>\n",
       "      <td>748</td>\n",
       "      <td>0.650781</td>\n",
       "    </tr>\n",
       "    <tr>\n",
       "      <th>837</th>\n",
       "      <td>Monty</td>\n",
       "      <td>Thomazin</td>\n",
       "      <td>Male</td>\n",
       "      <td>7</td>\n",
       "      <td>1951-09-16</td>\n",
       "      <td>Quality Engineer</td>\n",
       "      <td>NaN</td>\n",
       "      <td>Mass Customer</td>\n",
       "      <td>N</td>\n",
       "      <td>Yes</td>\n",
       "      <td>...</td>\n",
       "      <td>VIC</td>\n",
       "      <td>Australia</td>\n",
       "      <td>10</td>\n",
       "      <td>0.79</td>\n",
       "      <td>0.9875</td>\n",
       "      <td>1.234375</td>\n",
       "      <td>1.049219</td>\n",
       "      <td>838</td>\n",
       "      <td>838</td>\n",
       "      <td>0.573750</td>\n",
       "    </tr>\n",
       "    <tr>\n",
       "      <th>60</th>\n",
       "      <td>Lorrie</td>\n",
       "      <td>Antonelli</td>\n",
       "      <td>Male</td>\n",
       "      <td>47</td>\n",
       "      <td>1983-02-11</td>\n",
       "      <td>Cost Accountant</td>\n",
       "      <td>Financial Services</td>\n",
       "      <td>High Net Worth</td>\n",
       "      <td>N</td>\n",
       "      <td>Yes</td>\n",
       "      <td>...</td>\n",
       "      <td>NSW</td>\n",
       "      <td>Australia</td>\n",
       "      <td>7</td>\n",
       "      <td>0.40</td>\n",
       "      <td>0.5000</td>\n",
       "      <td>0.500000</td>\n",
       "      <td>0.500000</td>\n",
       "      <td>57</td>\n",
       "      <td>57</td>\n",
       "      <td>1.375000</td>\n",
       "    </tr>\n",
       "    <tr>\n",
       "      <th>887</th>\n",
       "      <td>Adriena</td>\n",
       "      <td>Giffin</td>\n",
       "      <td>Female</td>\n",
       "      <td>27</td>\n",
       "      <td>1957-03-17</td>\n",
       "      <td>Analog Circuit Design manager</td>\n",
       "      <td>Argiculture</td>\n",
       "      <td>Affluent Customer</td>\n",
       "      <td>N</td>\n",
       "      <td>Yes</td>\n",
       "      <td>...</td>\n",
       "      <td>NSW</td>\n",
       "      <td>Australia</td>\n",
       "      <td>9</td>\n",
       "      <td>0.84</td>\n",
       "      <td>1.0500</td>\n",
       "      <td>1.312500</td>\n",
       "      <td>1.312500</td>\n",
       "      <td>888</td>\n",
       "      <td>888</td>\n",
       "      <td>0.525000</td>\n",
       "    </tr>\n",
       "    <tr>\n",
       "      <th>470</th>\n",
       "      <td>Ceciley</td>\n",
       "      <td>Harg</td>\n",
       "      <td>Female</td>\n",
       "      <td>50</td>\n",
       "      <td>1990-10-19</td>\n",
       "      <td>Nurse Practicioner</td>\n",
       "      <td>Retail</td>\n",
       "      <td>Mass Customer</td>\n",
       "      <td>N</td>\n",
       "      <td>Yes</td>\n",
       "      <td>...</td>\n",
       "      <td>QLD</td>\n",
       "      <td>Australia</td>\n",
       "      <td>7</td>\n",
       "      <td>0.49</td>\n",
       "      <td>0.6125</td>\n",
       "      <td>0.612500</td>\n",
       "      <td>0.520625</td>\n",
       "      <td>471</td>\n",
       "      <td>471</td>\n",
       "      <td>0.887500</td>\n",
       "    </tr>\n",
       "    <tr>\n",
       "      <th>...</th>\n",
       "      <td>...</td>\n",
       "      <td>...</td>\n",
       "      <td>...</td>\n",
       "      <td>...</td>\n",
       "      <td>...</td>\n",
       "      <td>...</td>\n",
       "      <td>...</td>\n",
       "      <td>...</td>\n",
       "      <td>...</td>\n",
       "      <td>...</td>\n",
       "      <td>...</td>\n",
       "      <td>...</td>\n",
       "      <td>...</td>\n",
       "      <td>...</td>\n",
       "      <td>...</td>\n",
       "      <td>...</td>\n",
       "      <td>...</td>\n",
       "      <td>...</td>\n",
       "      <td>...</td>\n",
       "      <td>...</td>\n",
       "      <td>...</td>\n",
       "    </tr>\n",
       "    <tr>\n",
       "      <th>240</th>\n",
       "      <td>Farra</td>\n",
       "      <td>Matyushkin</td>\n",
       "      <td>Female</td>\n",
       "      <td>18</td>\n",
       "      <td>1974-01-24</td>\n",
       "      <td>VP Quality Control</td>\n",
       "      <td>Manufacturing</td>\n",
       "      <td>High Net Worth</td>\n",
       "      <td>N</td>\n",
       "      <td>Yes</td>\n",
       "      <td>...</td>\n",
       "      <td>VIC</td>\n",
       "      <td>Australia</td>\n",
       "      <td>9</td>\n",
       "      <td>0.79</td>\n",
       "      <td>0.9875</td>\n",
       "      <td>1.234375</td>\n",
       "      <td>1.234375</td>\n",
       "      <td>241</td>\n",
       "      <td>241</td>\n",
       "      <td>1.087500</td>\n",
       "    </tr>\n",
       "    <tr>\n",
       "      <th>763</th>\n",
       "      <td>Simmonds</td>\n",
       "      <td>Bapty</td>\n",
       "      <td>Male</td>\n",
       "      <td>52</td>\n",
       "      <td>2002-01-04</td>\n",
       "      <td>Junior Executive</td>\n",
       "      <td>Financial Services</td>\n",
       "      <td>Affluent Customer</td>\n",
       "      <td>N</td>\n",
       "      <td>No</td>\n",
       "      <td>...</td>\n",
       "      <td>NSW</td>\n",
       "      <td>Australia</td>\n",
       "      <td>12</td>\n",
       "      <td>0.46</td>\n",
       "      <td>0.4600</td>\n",
       "      <td>0.575000</td>\n",
       "      <td>0.575000</td>\n",
       "      <td>760</td>\n",
       "      <td>760</td>\n",
       "      <td>0.637500</td>\n",
       "    </tr>\n",
       "    <tr>\n",
       "      <th>435</th>\n",
       "      <td>Skipp</td>\n",
       "      <td>Swales</td>\n",
       "      <td>Male</td>\n",
       "      <td>15</td>\n",
       "      <td>1973-11-14</td>\n",
       "      <td>Community Outreach Specialist</td>\n",
       "      <td>Entertainment</td>\n",
       "      <td>High Net Worth</td>\n",
       "      <td>N</td>\n",
       "      <td>Yes</td>\n",
       "      <td>...</td>\n",
       "      <td>VIC</td>\n",
       "      <td>Australia</td>\n",
       "      <td>7</td>\n",
       "      <td>0.91</td>\n",
       "      <td>1.1375</td>\n",
       "      <td>1.137500</td>\n",
       "      <td>1.137500</td>\n",
       "      <td>436</td>\n",
       "      <td>436</td>\n",
       "      <td>0.903125</td>\n",
       "    </tr>\n",
       "    <tr>\n",
       "      <th>286</th>\n",
       "      <td>Taber</td>\n",
       "      <td>Szymon</td>\n",
       "      <td>Male</td>\n",
       "      <td>70</td>\n",
       "      <td>1947-04-22</td>\n",
       "      <td>Senior Sales Associate</td>\n",
       "      <td>Argiculture</td>\n",
       "      <td>Affluent Customer</td>\n",
       "      <td>N</td>\n",
       "      <td>No</td>\n",
       "      <td>...</td>\n",
       "      <td>QLD</td>\n",
       "      <td>Australia</td>\n",
       "      <td>8</td>\n",
       "      <td>1.03</td>\n",
       "      <td>1.0300</td>\n",
       "      <td>1.030000</td>\n",
       "      <td>1.030000</td>\n",
       "      <td>287</td>\n",
       "      <td>287</td>\n",
       "      <td>1.040000</td>\n",
       "    </tr>\n",
       "    <tr>\n",
       "      <th>572</th>\n",
       "      <td>Wilfrid</td>\n",
       "      <td>Gertray</td>\n",
       "      <td>Male</td>\n",
       "      <td>1</td>\n",
       "      <td>1942-08-23</td>\n",
       "      <td>Accounting Assistant I</td>\n",
       "      <td>Financial Services</td>\n",
       "      <td>Mass Customer</td>\n",
       "      <td>N</td>\n",
       "      <td>No</td>\n",
       "      <td>...</td>\n",
       "      <td>NSW</td>\n",
       "      <td>Australia</td>\n",
       "      <td>8</td>\n",
       "      <td>0.47</td>\n",
       "      <td>0.4700</td>\n",
       "      <td>0.470000</td>\n",
       "      <td>0.399500</td>\n",
       "      <td>568</td>\n",
       "      <td>568</td>\n",
       "      <td>0.800000</td>\n",
       "    </tr>\n",
       "  </tbody>\n",
       "</table></div>"
      ],
      "text/plain": [
       "    first_name   last_name  gender  past_3_years_bike_related_purchases  \\\n",
       "748      Mikol         Eck    Male                                   99   \n",
       "837      Monty    Thomazin    Male                                    7   \n",
       "60      Lorrie   Antonelli    Male                                   47   \n",
       "887    Adriena      Giffin  Female                                   27   \n",
       "470    Ceciley        Harg  Female                                   50   \n",
       "882       Judi    Cazereau  Female                                   22   \n",
       "514     Emelia     Ackwood  Female                                   72   \n",
       "762     Yorgos    Dewhurst    Male                                    6   \n",
       "717    Beatrix    McGivena  Female                                   26   \n",
       "391      Tamar    Windmill  Female                                   92   \n",
       "243    Solomon       Bruck    Male                                   29   \n",
       "802   Darlleen    Shalcras  Female                                   77   \n",
       "76      Tobias    Woodhams    Male                                    0   \n",
       "538   Lucretia  D'Agostini  Female                                   41   \n",
       "21      Gaston   Dallaghan    Male                                   44   \n",
       "240      Farra  Matyushkin  Female                                   18   \n",
       "763   Simmonds       Bapty    Male                                   52   \n",
       "435      Skipp      Swales    Male                                   15   \n",
       "286      Taber      Szymon    Male                                   70   \n",
       "572    Wilfrid     Gertray    Male                                    1   \n",
       "\n",
       "           DOB                      job_title job_industry_category  \\\n",
       "748 1975-07-25                   VP Marketing    Financial Services   \n",
       "837 1951-09-16               Quality Engineer                   NaN   \n",
       "60  1983-02-11                Cost Accountant    Financial Services   \n",
       "887 1957-03-17  Analog Circuit Design manager           Argiculture   \n",
       "470 1990-10-19             Nurse Practicioner                Retail   \n",
       "882 1997-03-03        GIS Technical Architect                   NaN   \n",
       "514 1988-09-30         Senior Cost Accountant    Financial Services   \n",
       "762 1950-09-09            Software Consultant           Argiculture   \n",
       "717 1966-10-18              Assistant Manager                Health   \n",
       "391 1939-08-28                  Senior Editor         Manufacturing   \n",
       "243 1957-11-15               Junior Executive                Health   \n",
       "802 1980-09-14                 Health Coach I                Health   \n",
       "76  1961-04-15                 Research Nurse                Health   \n",
       "538 1978-12-14     Database Administrator III         Manufacturing   \n",
       "21  1993-09-29              Financial Analyst    Financial Services   \n",
       "240 1974-01-24             VP Quality Control         Manufacturing   \n",
       "763 2002-01-04               Junior Executive    Financial Services   \n",
       "435 1973-11-14  Community Outreach Specialist         Entertainment   \n",
       "286 1947-04-22         Senior Sales Associate           Argiculture   \n",
       "572 1942-08-23         Accounting Assistant I    Financial Services   \n",
       "\n",
       "        wealth_segment deceased_indicator owns_car  ...  state    country  \\\n",
       "748      Mass Customer                  N      Yes  ...    QLD  Australia   \n",
       "837      Mass Customer                  N      Yes  ...    VIC  Australia   \n",
       "60      High Net Worth                  N      Yes  ...    NSW  Australia   \n",
       "887  Affluent Customer                  N      Yes  ...    NSW  Australia   \n",
       "470      Mass Customer                  N      Yes  ...    QLD  Australia   \n",
       "882  Affluent Customer                  N      Yes  ...    VIC  Australia   \n",
       "514      Mass Customer                  N      Yes  ...    QLD  Australia   \n",
       "762  Affluent Customer                  N       No  ...    QLD  Australia   \n",
       "717      Mass Customer                  N      Yes  ...    QLD  Australia   \n",
       "391  Affluent Customer                  N       No  ...    NSW  Australia   \n",
       "243      Mass Customer                  N       No  ...    QLD  Australia   \n",
       "802      Mass Customer                  N       No  ...    NSW  Australia   \n",
       "76       Mass Customer                  N       No  ...    NSW  Australia   \n",
       "538     High Net Worth                  N       No  ...    VIC  Australia   \n",
       "21       Mass Customer                  N      Yes  ...    NSW  Australia   \n",
       "240     High Net Worth                  N      Yes  ...    VIC  Australia   \n",
       "763  Affluent Customer                  N       No  ...    NSW  Australia   \n",
       "435     High Net Worth                  N      Yes  ...    VIC  Australia   \n",
       "286  Affluent Customer                  N       No  ...    QLD  Australia   \n",
       "572      Mass Customer                  N       No  ...    NSW  Australia   \n",
       "\n",
       "     property_valuation Unnamed: 16 Unnamed: 17  Unnamed: 18  Unnamed: 19  \\\n",
       "748                   9        0.90      1.1250     1.406250     1.195312   \n",
       "837                  10        0.79      0.9875     1.234375     1.049219   \n",
       "60                    7        0.40      0.5000     0.500000     0.500000   \n",
       "887                   9        0.84      1.0500     1.312500     1.312500   \n",
       "470                   7        0.49      0.6125     0.612500     0.520625   \n",
       "882                   3        1.09      1.3625     1.362500     1.362500   \n",
       "514                   9        1.04      1.3000     1.625000     1.381250   \n",
       "762                   1        1.07      1.0700     1.070000     1.070000   \n",
       "717                  10        0.62      0.7750     0.968750     0.823437   \n",
       "391                  10        1.01      1.0100     1.262500     1.262500   \n",
       "243                   8        0.94      0.9400     0.940000     0.799000   \n",
       "802                  10        0.47      0.4700     0.587500     0.499375   \n",
       "76                    9        1.00      1.0000     1.250000     1.062500   \n",
       "538                   7        0.66      0.6600     0.660000     0.660000   \n",
       "21                    7        0.77      0.9625     0.962500     0.818125   \n",
       "240                   9        0.79      0.9875     1.234375     1.234375   \n",
       "763                  12        0.46      0.4600     0.575000     0.575000   \n",
       "435                   7        0.91      1.1375     1.137500     1.137500   \n",
       "286                   8        1.03      1.0300     1.030000     1.030000   \n",
       "572                   8        0.47      0.4700     0.470000     0.399500   \n",
       "\n",
       "     Unnamed: 20  Rank     Value  \n",
       "748          748   748  0.650781  \n",
       "837          838   838  0.573750  \n",
       "60            57    57  1.375000  \n",
       "887          888   888  0.525000  \n",
       "470          471   471  0.887500  \n",
       "882          883   883  0.531250  \n",
       "514          515   515  0.839375  \n",
       "762          760   760  0.637500  \n",
       "717          715   715  0.677344  \n",
       "391          386   386  0.945625  \n",
       "243          244   244  1.083750  \n",
       "802          801   801  0.597656  \n",
       "76            77    77  1.341406  \n",
       "538          536   536  0.825000  \n",
       "21            21    21  1.515625  \n",
       "240          241   241  1.087500  \n",
       "763          760   760  0.637500  \n",
       "435          436   436  0.903125  \n",
       "286          287   287  1.040000  \n",
       "572          568   568  0.800000  \n",
       "\n",
       "[20 rows x 23 columns]"
      ]
     },
     "execution_count": 72,
     "metadata": {},
     "output_type": "execute_result"
    }
   ],
   "source": [
    "customers_df.sample(20)"
   ]
  },
  {
   "cell_type": "code",
   "execution_count": 73,
   "id": "be1c3f6e",
   "metadata": {},
   "outputs": [
    {
     "data": {
      "text/plain": [
       "first_name                               0\n",
       "last_name                               29\n",
       "gender                                   0\n",
       "past_3_years_bike_related_purchases      0\n",
       "DOB                                     17\n",
       "job_title                              106\n",
       "job_industry_category                  165\n",
       "wealth_segment                           0\n",
       "deceased_indicator                       0\n",
       "owns_car                                 0\n",
       "tenure                                   0\n",
       "address                                  0\n",
       "postcode                                 0\n",
       "state                                    0\n",
       "country                                  0\n",
       "property_valuation                       0\n",
       "Unnamed: 16                              0\n",
       "Unnamed: 17                              0\n",
       "Unnamed: 18                              0\n",
       "Unnamed: 19                              0\n",
       "Unnamed: 20                              0\n",
       "Rank                                     0\n",
       "Value                                    0\n",
       "dtype: int64"
      ]
     },
     "execution_count": 73,
     "metadata": {},
     "output_type": "execute_result"
    }
   ],
   "source": [
    "customers_df.isnull().sum()"
   ]
  },
  {
   "cell_type": "markdown",
   "id": "bffaf587",
   "metadata": {},
   "source": [
    "There are null values in the last_name, DOB, job_title and job_industry_category"
   ]
  },
  {
   "cell_type": "code",
   "execution_count": 78,
   "id": "b3d73998",
   "metadata": {},
   "outputs": [
    {
     "data": {
      "text/plain": [
       "False"
      ]
     },
     "execution_count": 78,
     "metadata": {},
     "output_type": "execute_result"
    }
   ],
   "source": [
    "customers_df.duplicated().all()"
   ]
  },
  {
   "cell_type": "code",
   "execution_count": null,
   "id": "6a32ad90",
   "metadata": {},
   "outputs": [],
   "source": [
    "customers_df."
   ]
  },
  {
   "cell_type": "markdown",
   "id": "61b41633",
   "metadata": {},
   "source": [
    "There are duplicates in the customers dataset."
   ]
  },
  {
   "cell_type": "code",
   "execution_count": 79,
   "id": "da83866e",
   "metadata": {},
   "outputs": [
    {
     "data": {
      "text/plain": [
       "No     507\n",
       "Yes    493\n",
       "Name: owns_car, dtype: int64"
      ]
     },
     "execution_count": 79,
     "metadata": {},
     "output_type": "execute_result"
    }
   ],
   "source": [
    "customers_df.owns_car.value_counts()"
   ]
  },
  {
   "cell_type": "code",
   "execution_count": 80,
   "id": "ff4b9d0e",
   "metadata": {},
   "outputs": [
    {
     "data": {
      "text/html": [
       "<div><div id=e027bc0b-c077-4127-9ddb-96384b7193df style=\"display:none; background-color:#9D6CFF; color:white; width:200px; height:30px; padding-left:5px; border-radius:4px; flex-direction:row; justify-content:space-around; align-items:center;\" onmouseover=\"this.style.backgroundColor='#BA9BF8'\" onmouseout=\"this.style.backgroundColor='#9D6CFF'\" onclick=\"window.commands?.execute('create-mitosheet-from-dataframe-output');\">See Full Dataframe in Mito</div> <script> if (window.commands?.hasCommand('create-mitosheet-from-dataframe-output')) document.getElementById('e027bc0b-c077-4127-9ddb-96384b7193df').style.display = 'flex' </script> <table border=\"1\" class=\"dataframe\">\n",
       "  <thead>\n",
       "    <tr style=\"text-align: right;\">\n",
       "      <th></th>\n",
       "      <th>customer_id</th>\n",
       "      <th>address</th>\n",
       "      <th>postcode</th>\n",
       "      <th>state</th>\n",
       "      <th>country</th>\n",
       "      <th>property_valuation</th>\n",
       "    </tr>\n",
       "  </thead>\n",
       "  <tbody>\n",
       "    <tr>\n",
       "      <th>3658</th>\n",
       "      <td>3663</td>\n",
       "      <td>954 Reinke Park</td>\n",
       "      <td>3101</td>\n",
       "      <td>VIC</td>\n",
       "      <td>Australia</td>\n",
       "      <td>12</td>\n",
       "    </tr>\n",
       "    <tr>\n",
       "      <th>3987</th>\n",
       "      <td>3992</td>\n",
       "      <td>8 Randy Parkway</td>\n",
       "      <td>2209</td>\n",
       "      <td>NSW</td>\n",
       "      <td>Australia</td>\n",
       "      <td>11</td>\n",
       "    </tr>\n",
       "    <tr>\n",
       "      <th>2742</th>\n",
       "      <td>2747</td>\n",
       "      <td>5 Lakewood Gardens Court</td>\n",
       "      <td>2118</td>\n",
       "      <td>NSW</td>\n",
       "      <td>Australia</td>\n",
       "      <td>9</td>\n",
       "    </tr>\n",
       "    <tr>\n",
       "      <th>2344</th>\n",
       "      <td>2349</td>\n",
       "      <td>99 Eastlawn Way</td>\n",
       "      <td>2360</td>\n",
       "      <td>NSW</td>\n",
       "      <td>Australia</td>\n",
       "      <td>1</td>\n",
       "    </tr>\n",
       "    <tr>\n",
       "      <th>2479</th>\n",
       "      <td>2484</td>\n",
       "      <td>0 Union Plaza</td>\n",
       "      <td>2444</td>\n",
       "      <td>NSW</td>\n",
       "      <td>Australia</td>\n",
       "      <td>7</td>\n",
       "    </tr>\n",
       "    <tr>\n",
       "      <th>...</th>\n",
       "      <td>...</td>\n",
       "      <td>...</td>\n",
       "      <td>...</td>\n",
       "      <td>...</td>\n",
       "      <td>...</td>\n",
       "      <td>...</td>\n",
       "    </tr>\n",
       "    <tr>\n",
       "      <th>992</th>\n",
       "      <td>997</td>\n",
       "      <td>1 Continental Center</td>\n",
       "      <td>2146</td>\n",
       "      <td>NSW</td>\n",
       "      <td>Australia</td>\n",
       "      <td>9</td>\n",
       "    </tr>\n",
       "    <tr>\n",
       "      <th>993</th>\n",
       "      <td>998</td>\n",
       "      <td>0465 Melrose Alley</td>\n",
       "      <td>2768</td>\n",
       "      <td>NSW</td>\n",
       "      <td>Australia</td>\n",
       "      <td>9</td>\n",
       "    </tr>\n",
       "    <tr>\n",
       "      <th>3359</th>\n",
       "      <td>3364</td>\n",
       "      <td>62551 Del Mar Avenue</td>\n",
       "      <td>2300</td>\n",
       "      <td>NSW</td>\n",
       "      <td>Australia</td>\n",
       "      <td>6</td>\n",
       "    </tr>\n",
       "    <tr>\n",
       "      <th>1925</th>\n",
       "      <td>1930</td>\n",
       "      <td>3542 Arkansas Place</td>\n",
       "      <td>3380</td>\n",
       "      <td>VIC</td>\n",
       "      <td>Australia</td>\n",
       "      <td>1</td>\n",
       "    </tr>\n",
       "    <tr>\n",
       "      <th>1866</th>\n",
       "      <td>1871</td>\n",
       "      <td>66811 Lerdahl Way</td>\n",
       "      <td>4160</td>\n",
       "      <td>QLD</td>\n",
       "      <td>Australia</td>\n",
       "      <td>4</td>\n",
       "    </tr>\n",
       "  </tbody>\n",
       "</table></div>"
      ],
      "text/plain": [
       "      customer_id                    address  postcode            state  \\\n",
       "3658         3663            954 Reinke Park      3101              VIC   \n",
       "3987         3992            8 Randy Parkway      2209              NSW   \n",
       "2742         2747   5 Lakewood Gardens Court      2118              NSW   \n",
       "2344         2349            99 Eastlawn Way      2360              NSW   \n",
       "2479         2484              0 Union Plaza      2444              NSW   \n",
       "2787         2792               03 Ohio Lane      3081              VIC   \n",
       "910           915  69278 High Crossing Place      2795              NSW   \n",
       "1524         1529           6750 Truax Trail      2145              NSW   \n",
       "941           946    93446 Eagle Crest Plaza      2229              NSW   \n",
       "2685         2690         39746 Eliot Center      2177              NSW   \n",
       "1931         1936         710 Schiller Plaza      3338              VIC   \n",
       "2199         2204          94 Vernon Parkway      2762              NSW   \n",
       "1494         1499         543 Morrow Terrace      2261              NSW   \n",
       "1               2        6 Meadow Vale Court      2153  New South Wales   \n",
       "1814         1819          1 Garrison Street      3103              VIC   \n",
       "992           997       1 Continental Center      2146              NSW   \n",
       "993           998         0465 Melrose Alley      2768              NSW   \n",
       "3359         3364       62551 Del Mar Avenue      2300              NSW   \n",
       "1925         1930        3542 Arkansas Place      3380              VIC   \n",
       "1866         1871          66811 Lerdahl Way      4160              QLD   \n",
       "\n",
       "        country  property_valuation  \n",
       "3658  Australia                  12  \n",
       "3987  Australia                  11  \n",
       "2742  Australia                   9  \n",
       "2344  Australia                   1  \n",
       "2479  Australia                   7  \n",
       "2787  Australia                   9  \n",
       "910   Australia                   5  \n",
       "1524  Australia                   8  \n",
       "941   Australia                  10  \n",
       "2685  Australia                   9  \n",
       "1931  Australia                   1  \n",
       "2199  Australia                   9  \n",
       "1494  Australia                   8  \n",
       "1     Australia                  10  \n",
       "1814  Australia                  12  \n",
       "992   Australia                   9  \n",
       "993   Australia                   9  \n",
       "3359  Australia                   6  \n",
       "1925  Australia                   1  \n",
       "1866  Australia                   4  "
      ]
     },
     "execution_count": 80,
     "metadata": {},
     "output_type": "execute_result"
    }
   ],
   "source": [
    "\n",
    "customer_address_df.sample(20)"
   ]
  },
  {
   "cell_type": "code",
   "execution_count": 81,
   "id": "87ac5ef5",
   "metadata": {},
   "outputs": [
    {
     "data": {
      "text/plain": [
       "(3999, 6)"
      ]
     },
     "execution_count": 81,
     "metadata": {},
     "output_type": "execute_result"
    }
   ],
   "source": [
    "customer_address_df.shape"
   ]
  },
  {
   "cell_type": "code",
   "execution_count": 82,
   "id": "1104ecd7",
   "metadata": {},
   "outputs": [
    {
     "data": {
      "text/plain": [
       "3996"
      ]
     },
     "execution_count": 82,
     "metadata": {},
     "output_type": "execute_result"
    }
   ],
   "source": [
    "customer_address_df.address.nunique()"
   ]
  },
  {
   "cell_type": "code",
   "execution_count": 96,
   "id": "08843419",
   "metadata": {},
   "outputs": [
    {
     "data": {
      "text/plain": [
       "False"
      ]
     },
     "execution_count": 96,
     "metadata": {},
     "output_type": "execute_result"
    }
   ],
   "source": [
    "# investigate postcode and address..\n",
    "\n",
    "customer_address_df.duplicated(subset=['address', 'postcode']).any()"
   ]
  },
  {
   "cell_type": "markdown",
   "id": "62bd7561",
   "metadata": {},
   "source": [
    "No duplicate address and postcode"
   ]
  },
  {
   "cell_type": "code",
   "execution_count": 86,
   "id": "99c2470d",
   "metadata": {},
   "outputs": [
    {
     "data": {
      "text/html": [
       "<div><div id=22883773-7740-4f60-a9a5-6641dfdc1d15 style=\"display:none; background-color:#9D6CFF; color:white; width:200px; height:30px; padding-left:5px; border-radius:4px; flex-direction:row; justify-content:space-around; align-items:center;\" onmouseover=\"this.style.backgroundColor='#BA9BF8'\" onmouseout=\"this.style.backgroundColor='#9D6CFF'\" onclick=\"window.commands?.execute('create-mitosheet-from-dataframe-output');\">See Full Dataframe in Mito</div> <script> if (window.commands?.hasCommand('create-mitosheet-from-dataframe-output')) document.getElementById('22883773-7740-4f60-a9a5-6641dfdc1d15').style.display = 'flex' </script> <table border=\"1\" class=\"dataframe\">\n",
       "  <thead>\n",
       "    <tr style=\"text-align: right;\">\n",
       "      <th></th>\n",
       "      <th>customer_id</th>\n",
       "      <th>first_name</th>\n",
       "      <th>last_name</th>\n",
       "      <th>gender</th>\n",
       "      <th>past_3_years_bike_related_purchases</th>\n",
       "      <th>DOB</th>\n",
       "      <th>job_title</th>\n",
       "      <th>job_industry_category</th>\n",
       "      <th>wealth_segment</th>\n",
       "      <th>deceased_indicator</th>\n",
       "      <th>default</th>\n",
       "      <th>owns_car</th>\n",
       "      <th>tenure</th>\n",
       "    </tr>\n",
       "  </thead>\n",
       "  <tbody>\n",
       "    <tr>\n",
       "      <th>2312</th>\n",
       "      <td>2313</td>\n",
       "      <td>Christa</td>\n",
       "      <td>Pauley</td>\n",
       "      <td>Female</td>\n",
       "      <td>54</td>\n",
       "      <td>1966-07-10</td>\n",
       "      <td>Chemical Engineer</td>\n",
       "      <td>Manufacturing</td>\n",
       "      <td>Mass Customer</td>\n",
       "      <td>N</td>\n",
       "      <td>Â¡â¢Â£Â¢âÂ§Â¶â¢ÂªÂºââ</td>\n",
       "      <td>No</td>\n",
       "      <td>12.0</td>\n",
       "    </tr>\n",
       "    <tr>\n",
       "      <th>970</th>\n",
       "      <td>971</td>\n",
       "      <td>Sarge</td>\n",
       "      <td>Lerohan</td>\n",
       "      <td>Male</td>\n",
       "      <td>11</td>\n",
       "      <td>1988-10-25</td>\n",
       "      <td>Geologist I</td>\n",
       "      <td>Manufacturing</td>\n",
       "      <td>High Net Worth</td>\n",
       "      <td>N</td>\n",
       "      <td>ã»(ï¿£âï¿£)ã»:*:</td>\n",
       "      <td>No</td>\n",
       "      <td>22.0</td>\n",
       "    </tr>\n",
       "    <tr>\n",
       "      <th>601</th>\n",
       "      <td>602</td>\n",
       "      <td>Lebbie</td>\n",
       "      <td>Bruck</td>\n",
       "      <td>Female</td>\n",
       "      <td>0</td>\n",
       "      <td>1992-03-28</td>\n",
       "      <td>Office Assistant II</td>\n",
       "      <td>NaN</td>\n",
       "      <td>High Net Worth</td>\n",
       "      <td>N</td>\n",
       "      <td>åè£½æ¼¢èª</td>\n",
       "      <td>Yes</td>\n",
       "      <td>9.0</td>\n",
       "    </tr>\n",
       "    <tr>\n",
       "      <th>3523</th>\n",
       "      <td>3524</td>\n",
       "      <td>Waiter</td>\n",
       "      <td>Piscopello</td>\n",
       "      <td>Male</td>\n",
       "      <td>38</td>\n",
       "      <td>1973-12-30</td>\n",
       "      <td>Design Engineer</td>\n",
       "      <td>Financial Services</td>\n",
       "      <td>Mass Customer</td>\n",
       "      <td>N</td>\n",
       "      <td>1</td>\n",
       "      <td>Yes</td>\n",
       "      <td>18.0</td>\n",
       "    </tr>\n",
       "    <tr>\n",
       "      <th>1494</th>\n",
       "      <td>1495</td>\n",
       "      <td>Charmion</td>\n",
       "      <td>Dobsons</td>\n",
       "      <td>Female</td>\n",
       "      <td>4</td>\n",
       "      <td>1989-08-14</td>\n",
       "      <td>Physical Therapy Assistant</td>\n",
       "      <td>Health</td>\n",
       "      <td>High Net Worth</td>\n",
       "      <td>N</td>\n",
       "      <td>ã</td>\n",
       "      <td>Yes</td>\n",
       "      <td>8.0</td>\n",
       "    </tr>\n",
       "    <tr>\n",
       "      <th>1688</th>\n",
       "      <td>1689</td>\n",
       "      <td>Teodor</td>\n",
       "      <td>Larwell</td>\n",
       "      <td>Male</td>\n",
       "      <td>48</td>\n",
       "      <td>1995-06-18</td>\n",
       "      <td>Quality Control Specialist</td>\n",
       "      <td>Financial Services</td>\n",
       "      <td>Mass Customer</td>\n",
       "      <td>N</td>\n",
       "      <td>â¡</td>\n",
       "      <td>Yes</td>\n",
       "      <td>4.0</td>\n",
       "    </tr>\n",
       "    <tr>\n",
       "      <th>365</th>\n",
       "      <td>366</td>\n",
       "      <td>Constance</td>\n",
       "      <td>Ucchino</td>\n",
       "      <td>Female</td>\n",
       "      <td>7</td>\n",
       "      <td>1954-01-08</td>\n",
       "      <td>Librarian</td>\n",
       "      <td>Entertainment</td>\n",
       "      <td>High Net Worth</td>\n",
       "      <td>N</td>\n",
       "      <td>â©testâ©</td>\n",
       "      <td>No</td>\n",
       "      <td>19.0</td>\n",
       "    </tr>\n",
       "    <tr>\n",
       "      <th>523</th>\n",
       "      <td>524</td>\n",
       "      <td>Florence</td>\n",
       "      <td>Held</td>\n",
       "      <td>Female</td>\n",
       "      <td>16</td>\n",
       "      <td>1962-09-09</td>\n",
       "      <td>Nurse</td>\n",
       "      <td>Retail</td>\n",
       "      <td>Mass Customer</td>\n",
       "      <td>N</td>\n",
       "      <td>ï¾ï½¥â¿ã¾â²(ï½¡ââ¿âï½¡)â±â¿ï½¥ï¾</td>\n",
       "      <td>No</td>\n",
       "      <td>11.0</td>\n",
       "    </tr>\n",
       "    <tr>\n",
       "      <th>2805</th>\n",
       "      <td>2806</td>\n",
       "      <td>Thorndike</td>\n",
       "      <td>Glossop</td>\n",
       "      <td>Male</td>\n",
       "      <td>60</td>\n",
       "      <td>1986-05-18</td>\n",
       "      <td>Programmer Analyst II</td>\n",
       "      <td>Manufacturing</td>\n",
       "      <td>Mass Customer</td>\n",
       "      <td>N</td>\n",
       "      <td>NaN</td>\n",
       "      <td>Yes</td>\n",
       "      <td>3.0</td>\n",
       "    </tr>\n",
       "    <tr>\n",
       "      <th>915</th>\n",
       "      <td>916</td>\n",
       "      <td>Joycelin</td>\n",
       "      <td>NaN</td>\n",
       "      <td>Female</td>\n",
       "      <td>18</td>\n",
       "      <td>1991-06-18</td>\n",
       "      <td>Recruiter</td>\n",
       "      <td>NaN</td>\n",
       "      <td>Affluent Customer</td>\n",
       "      <td>N</td>\n",
       "      <td>TÌÌ­ÌºÌºoÍ Ì·iÌ²Ì¬ÍÌªÍnÌÌÍvÍÌÌÌÌ¦oÌ¶ÌÌ°Ì keÍÍÌ®ÌºÌªÌ¹Ì±Ì¤ ÌtÍÌÍÌ³Ì£Ì»ÌªhÌ¼ÍÌ²Ì¦Ì³ÌÌ²eÍÌ£Ì°Ì¦Ì¬Í Ì¢Ì¼Ì»Ì±ÌhÍÍÍÍÌÌ£Ì²iÌ¦Ì²Ì£Ì°Ì¤vÌ»ÍeÌºÌ­Ì³ÌªÌ°-mÌ¢iÍnÌÌºÌÌ²Ì¯Ì°dÌµÌ¼ÌÍÌ©Ì¼ÌÌ³ ÌÌ¥Ì±Ì³Ì­rÌÌÌeÍpÍ rÌ¼ÌÌ»Ì­ÌeÍÌºÌ Ì£sÌ</td>\n",
       "      <td>No</td>\n",
       "      <td>8.0</td>\n",
       "    </tr>\n",
       "  </tbody>\n",
       "</table></div>"
      ],
      "text/plain": [
       "      customer_id first_name   last_name  gender  \\\n",
       "2312         2313    Christa      Pauley  Female   \n",
       "970           971      Sarge     Lerohan    Male   \n",
       "601           602     Lebbie       Bruck  Female   \n",
       "3523         3524     Waiter  Piscopello    Male   \n",
       "1494         1495   Charmion     Dobsons  Female   \n",
       "1688         1689     Teodor     Larwell    Male   \n",
       "365           366  Constance     Ucchino  Female   \n",
       "523           524   Florence        Held  Female   \n",
       "2805         2806  Thorndike     Glossop    Male   \n",
       "915           916   Joycelin         NaN  Female   \n",
       "\n",
       "      past_3_years_bike_related_purchases        DOB  \\\n",
       "2312                                   54 1966-07-10   \n",
       "970                                    11 1988-10-25   \n",
       "601                                     0 1992-03-28   \n",
       "3523                                   38 1973-12-30   \n",
       "1494                                    4 1989-08-14   \n",
       "1688                                   48 1995-06-18   \n",
       "365                                     7 1954-01-08   \n",
       "523                                    16 1962-09-09   \n",
       "2805                                   60 1986-05-18   \n",
       "915                                    18 1991-06-18   \n",
       "\n",
       "                       job_title job_industry_category     wealth_segment  \\\n",
       "2312           Chemical Engineer         Manufacturing      Mass Customer   \n",
       "970                  Geologist I         Manufacturing     High Net Worth   \n",
       "601          Office Assistant II                   NaN     High Net Worth   \n",
       "3523             Design Engineer    Financial Services      Mass Customer   \n",
       "1494  Physical Therapy Assistant                Health     High Net Worth   \n",
       "1688  Quality Control Specialist    Financial Services      Mass Customer   \n",
       "365                    Librarian         Entertainment     High Net Worth   \n",
       "523                        Nurse                Retail      Mass Customer   \n",
       "2805       Programmer Analyst II         Manufacturing      Mass Customer   \n",
       "915                    Recruiter                   NaN  Affluent Customer   \n",
       "\n",
       "     deceased_indicator                                            default  \\\n",
       "2312                  N                             Â¡â¢Â£Â¢âÂ§Â¶â¢ÂªÂºââ    \n",
       "970                   N                                   ã»(ï¿£âï¿£)ã»:*:   \n",
       "601                   N                                          åè£½æ¼¢èª   \n",
       "3523                  N                                                  1   \n",
       "1494                  N                                                  ã   \n",
       "1688                  N                                                 â¡   \n",
       "365                   N                                           â©testâ©   \n",
       "523                   N                   ï¾ï½¥â¿ã¾â²(ï½¡ââ¿âï½¡)â±â¿ï½¥ï¾   \n",
       "2805                  N                                                NaN   \n",
       "915                   N  TÌÌ­ÌºÌºoÍ Ì·iÌ²Ì¬ÍÌªÍnÌÌÍvÍÌÌÌÌ¦oÌ¶ÌÌ°Ì keÍÍÌ...   \n",
       "\n",
       "     owns_car  tenure  \n",
       "2312       No    12.0  \n",
       "970        No    22.0  \n",
       "601       Yes     9.0  \n",
       "3523      Yes    18.0  \n",
       "1494      Yes     8.0  \n",
       "1688      Yes     4.0  \n",
       "365        No    19.0  \n",
       "523        No    11.0  \n",
       "2805      Yes     3.0  \n",
       "915        No     8.0  "
      ]
     },
     "execution_count": 86,
     "metadata": {},
     "output_type": "execute_result"
    }
   ],
   "source": [
    "customer_demographic_df.sample(10)"
   ]
  },
  {
   "cell_type": "code",
   "execution_count": 85,
   "id": "9c2dc0f4",
   "metadata": {},
   "outputs": [
    {
     "data": {
      "text/plain": [
       "N    3998\n",
       "Y       2\n",
       "Name: deceased_indicator, dtype: int64"
      ]
     },
     "execution_count": 85,
     "metadata": {},
     "output_type": "execute_result"
    }
   ],
   "source": [
    "customer_demographic_df.deceased_indicator.value_counts()"
   ]
  },
  {
   "cell_type": "markdown",
   "id": "d58ee3b7",
   "metadata": {},
   "source": [
    "### Data quality Issues:\n",
    "> Completenes:\n",
    "    >1. There are null values in the online_order, brand, product_line, product_class, `product_size`, `standard_cost`, `product_first_sold_date` columns.\n",
    "    >2. In customers dataset, last_name, DOB, `job_title` and `job_industry_category` contain null values.\n",
    "    >3. \n",
    "    \n",
    "> Consistency:\n",
    "    >1. `List_price` and `standard_cost` columns of some products are not consistent. We can have two products of the same size, class, brand and product_line with different `list_price` and different `standard_cost`. \n",
    "    \n",
    "> Accuracy:\n",
    "    >1. In customer demographic dataset, the `gender` column has an incorrect value `U`, which could represent a customer who didn't give information about their gender. That it not accurate.\n",
    "    >2. `default` column in customer demographic contains inaccurate values. some of which are symbols and foreign/unknown characters.\n",
    "    >3. in customer demographic, tenure does not have a clear column name. It needs to be changed to a clearer and concise name\n",
    "    \n",
    "> Currency:\n",
    "    >1. `Transaction_date` column contains data points that are not current,i.e., they are over three(3) months old. This can be resolved by getting the last three months of transaction data.\n",
    "    >2. Customers dataset contains information about customers' purchases in the last three (3) years which is also irrelevant since we're considering the last three (3) months of data.\n",
    "    \n",
    "> Relevancy:\n",
    "    >1. `Product_class` column is not relevant since there is also product_size columns. Both seem to have same format and interpretation therefore it is irrelevant to make use of both.\n",
    "    >2. `product_first_sold_date` column is not relevant in a transaction database.\n",
    "    >3. Customers dataset contains information about customers' purchases in the last three (3) years which is also irrelevant.\n",
    "    >4. `deceased_indicator` in customers' dataset is not relevant.\n",
    "    >5. In the customers' dataset, `Rank` and `Values` and other `unnamed columns` have no meaning in the dataset. \n",
    "    \n",
    "> Validity:\n",
    "    >1. `product_first_sold_date` cloumn's data points are not valid date/datetime values.\n",
    "    >2. `online_order` has invalid data types\n",
    "    \n",
    "> Uniquesness:\n",
    "    >1. There exist duplicate entries in the customers' dataset.\n",
    "    >2. \n",
    "    \n"
   ]
  },
  {
   "cell_type": "code",
   "execution_count": null,
   "id": "b8de0f5d",
   "metadata": {},
   "outputs": [],
   "source": []
  }
 ],
 "metadata": {
  "kernelspec": {
   "display_name": "Python 3 (ipykernel)",
   "language": "python",
   "name": "python3"
  },
  "language_info": {
   "codemirror_mode": {
    "name": "ipython",
    "version": 3
   },
   "file_extension": ".py",
   "mimetype": "text/x-python",
   "name": "python",
   "nbconvert_exporter": "python",
   "pygments_lexer": "ipython3",
   "version": "3.10.4"
  }
 },
 "nbformat": 4,
 "nbformat_minor": 5
}
